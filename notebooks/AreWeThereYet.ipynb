{
 "cells": [
  {
   "cell_type": "markdown",
   "id": "0",
   "metadata": {},
   "source": [
    "# Are We There Yet?\n",
    "\n",
    "You are visiting your friend and it will require\n",
    "* A 5 minute walk to the ‘L’ station\n",
    "* Waiting for the train, which arrives every 20 minutes\n",
    "* Traveling 30 minutes by ‘L’\n",
    "* Catching a taxi at the ‘L’ destination\n",
    "  * There is a 20% chance that the car is waiting for you\n",
    "  * Otherwise the average wait time is 10 minutes\n",
    "* A 12 minute taxi ride \n",
    "\n",
    "_How long should you plan for the trip to take?_\n",
    "\n",
    "#### Some LaTeX macros (hidden in math mode, will not render correctly in VS Code)\n",
    "$\n",
    "\\newcommand{\\vh}{\\boldsymbol{h}}\n",
    "\\newcommand{\\vt}{\\boldsymbol{t}}\n",
    "\\newcommand{\\vx}{\\boldsymbol{x}}\n",
    "\\newcommand{\\vX}{\\boldsymbol{X}}\n",
    "\\newcommand{\\cf}{\\mathcal{F}}\n",
    "\\newcommand{\\cu}{\\mathcal{U}}\n",
    "\\newcommand{\\dif}{\\mathrm{d}}\n",
    "\\newcommand{\\Ex}{\\mathbb{E}}\n",
    "\\newcommand{\\Prob}{\\mathbb{P}}\n",
    "\\newcommand{\\disc}{\\operatorname{disc}}\n",
    "\\newcommand{\\norm}[2]{{\\left \\lVert #1 \\right \\rVert}_{#2}}\n",
    "$"
   ]
  },
  {
   "cell_type": "markdown",
   "id": "1",
   "metadata": {},
   "source": [
    "#### Run this notebook in Juypter with the `conda qmcpy` environment or [![Open In Colab](https://colab.research.google.com/assets/colab-badge.svg)](https://colab.research.google.com/github/QMCSoftware/MATH565Fall2025/blob/main/notebooks/AreWeThereYet.ipynb?flush_cache=true)"
   ]
  },
  {
   "cell_type": "code",
   "execution_count": null,
   "id": "2",
   "metadata": {},
   "outputs": [],
   "source": [
    "if \"google.colab\" in str(get_ipython()):\n",
    "    print(\"⚡Note: Setup here can take a few minutes.\")\n",
    "    !apt-get -y install cm-super dvipng texlive-latex-extra texlive-latex-recommended\n",
    "    !pip install git+https://github.com/QMCSoftware/QMCSoftware.git@develop\n",
    "    !git clone https://github.com/QMCSoftware/MATH565Fall2025.git\n",
    "    %cd MATH565Fall2025/notebooks\n",
    "    print(\"\\n✅ Colab setup complete.\")\n",
    "    print(\"   For faster performance, please install the qmcpy environment locally.\")"
   ]
  },
  {
   "cell_type": "markdown",
   "id": "3",
   "metadata": {},
   "source": [
    "## Mathematical set-up\n",
    "$$\n",
    "\\begin{aligned}\n",
    "T & = \\text{travel time} = 5 + W_1 + 30 + W_2 + 12 = 47 + W_1 + W_2 \\\\\n",
    "W_1 & = \\text{waiting time for 'L' train} \\sim \\mathcal{U}[0,20] \\\\\n",
    "W_2 & = \\text{waiting time for taxi}, \\quad \n",
    "\\Prob(W_2 \\le w) = \\begin{cases} 0, & w < 0 \\\\ 0.2+ 0.04 \\exp(-w/20), & w \\ge 0 \\end{cases}\n",
    "\\end{aligned}\n",
    "$$\n",
    "\n",
    "We assume that $W_1$ and $W_2$ are independent\n",
    "\n",
    "We will now perform Monte Carlo simulation\n"
   ]
  },
  {
   "cell_type": "markdown",
   "id": "4",
   "metadata": {},
   "source": [
    "## Monte Carlo estimation of the average waiting time\n",
    "\n",
    "### Import needed packages and initialize some parameters"
   ]
  },
  {
   "cell_type": "code",
   "execution_count": null,
   "id": "5",
   "metadata": {},
   "outputs": [],
   "source": [
    "import matplotlib.pyplot as plt\n",
    "import math, time, timeit, sys\n",
    "import numpy as np\n",
    "import scipy as sp\n",
    "from scipy import stats\n",
    "import qmcpy as qp\n",
    "import sympy as sy\n",
    "from IPython.display import Markdown\n",
    "import mc_class as init\n",
    "init.init()                 # apply rcParams + numpy error policy\n",
    "colors = init.get_py_colors()"
   ]
  },
  {
   "cell_type": "markdown",
   "id": "6",
   "metadata": {},
   "source": [
    "### Set up random variables $W_1$ and $W_2$"
   ]
  },
  {
   "cell_type": "code",
   "execution_count": null,
   "id": "7",
   "metadata": {},
   "outputs": [],
   "source": [
    "# --- Parameters --- We define these with variables so that we can change their values later\n",
    "walk_time = 5  #time to walk to the 'L'\n",
    "on_L_time = 30  #time on the 'L'\n",
    "taxi_time = 12  #time in the taxi\n",
    "T0 = walk_time + on_L_time + taxi_time # fixed time\n",
    "wait_L_time = 20  #max time until next 'L' train\n",
    "taxi_now = 0.2  #probability of taxi now\n",
    "taxi_wait_avg = 10  #average time to wait for a taxi if it is not there\n",
    "\n",
    "\n",
    "# --- W1: Uniform(0, L_time) ---\n",
    "W1 = stats.uniform(loc=0, scale=wait_L_time)  #this is the waiting time for the 'L'\n",
    "\n",
    "# --- W2: Zero-inflated Exponential ---\n",
    "# Since scipy does not have a zero-inflated exponential we define it with the help of ChatGPT\n",
    "class zero_inflated_expon(stats.rv_continuous):\n",
    "    def __init__(self, p_zero=0.2, rate=1.0, *args, **kwargs):\n",
    "        super().__init__(a=0.0, name=\"zero_inflated_expon\", *args, **kwargs)\n",
    "        if not (0.0 <= p_zero < 1.0):\n",
    "            raise ValueError(\"p_zero must be in [0,1).\")\n",
    "        if rate <= 0:\n",
    "            raise ValueError(\"rate must be > 0.\")\n",
    "        self.p_zero = float(p_zero)\n",
    "        self.rate = float(rate)\n",
    "\n",
    "    # CDF for completeness (unchanged)\n",
    "    def _cdf(self, x):\n",
    "        p0, lam = self.p_zero, self.rate\n",
    "        x = np.asarray(x)\n",
    "        return np.where(\n",
    "            x < 0, 0.0,\n",
    "            np.where(\n",
    "                x == 0, p0,\n",
    "                p0 + (1 - p0) * (1 - np.exp(-lam * x))\n",
    "            )\n",
    "        )\n",
    "\n",
    "    # **Fast closed-form PPF**\n",
    "    def _ppf(self, q):\n",
    "        p0, lam = self.p_zero, self.rate\n",
    "        q = np.asarray(q)\n",
    "        # map q <= p0 to 0\n",
    "        res = np.zeros_like(q, dtype=float)\n",
    "        # handle q in (p0,1)\n",
    "        mask = (q > p0) & (q < 1.0)\n",
    "        t = (q[mask] - p0) / (1.0 - p0)  # in (0,1)\n",
    "        res[mask] = -np.log1p(-t) / lam  # stable when q ~ 1\n",
    "        # q == 1 -> inf\n",
    "        res = np.where(q >= 1.0, np.inf, res)\n",
    "        # q < 0 -> nan (SciPy typically returns nan out-of-domain)\n",
    "        res = np.where(q < 0.0, np.nan, res)\n",
    "        return res\n",
    "\n",
    "    # Optional: vectorized RNG (yours was fine)\n",
    "    def _rvs(self, size=None, random_state=None):\n",
    "        p0, lam = self.p_zero, self.rate\n",
    "        u = random_state.random(size)\n",
    "        x = np.zeros(size)\n",
    "        mask = u >= p0\n",
    "        x[mask] = random_state.exponential(scale=1/lam, size=np.sum(mask))\n",
    "        return x\n",
    "\n",
    "# Set the parameters for our \n",
    "W2 = zero_inflated_expon(p_zero=taxi_now, rate=1/taxi_wait_avg)"
   ]
  },
  {
   "cell_type": "markdown",
   "id": "8",
   "metadata": {},
   "source": [
    "### Compute the true (population) mean travel time"
   ]
  },
  {
   "cell_type": "code",
   "execution_count": null,
   "id": "9",
   "metadata": {},
   "outputs": [],
   "source": [
    "true_mean_T = T0 + W1.mean() + W2.mean()  #use the mean properties of the random variables, in this case the answer is simple\n",
    "print(f\"Mean travel time = \\u03bc ={true_mean_T : .1f}\")"
   ]
  },
  {
   "cell_type": "markdown",
   "id": "10",
   "metadata": {},
   "source": [
    "### Generate random samples and compute the sample mean travel time\n",
    "\n",
    "Here we generate"
   ]
  },
  {
   "cell_type": "code",
   "execution_count": null,
   "id": "11",
   "metadata": {},
   "outputs": [],
   "source": [
    "display(Markdown(fr\"\"\"\n",
    "\\begin{{gather}}\n",
    "W_{{11}}, W_{{21}}, \\ldots \\overset{{\\text{{IID}}}}{{\\sim}} \\mathcal{{U}}[0,{wait_L_time}] \\\\\n",
    "W_{{12}}, W_{{22}}, \\ldots \\overset{{\\text{{IID}}}}{{\\sim}} \\text{{zero inflated exponential}} \\\\\n",
    "T_{{i}} = {T0} + W_{{i1}} + W_{{i2}}, \\quad i=1,2,\\ldots\n",
    "\\end{{gather}}\n",
    "\"\"\"))"
   ]
  },
  {
   "cell_type": "markdown",
   "id": "12",
   "metadata": {},
   "source": [
    "and then compute the sample mean\n",
    "\n",
    "$$\n",
    "\\widehat{{\\mu}}_n = \\frac 1n \\sum_{{i=1}}^n T_i,\\quad n=1,2,\\ldots\n",
    "$$"
   ]
  },
  {
   "cell_type": "code",
   "execution_count": null,
   "id": "13",
   "metadata": {},
   "outputs": [],
   "source": [
    "n_max = 10**4  #sample size\n",
    "nrange = np.arange(1, n_max+1)\n",
    "W1_samples =  W1.rvs(size=n_max)  #generate samples of waiting times for the 'L'\n",
    "W2_samples =  W2.rvs(size=n_max)  #generate samples of waiting times for the taxi\n",
    "print(\"'L' waiting time W1 samples = \",W1_samples[:20])\n",
    "print(\"Taxi waiting time W2 samples = \",W2_samples[:20])\n",
    "T_samples = 47 + W1_samples + W2_samples  #generate samples of total travel time\n",
    "sample_mean_T = np.cumsum(T_samples) / nrange  #compute the travel time sample means for first 1, 2, ..., n samples\n",
    "\n",
    "plt.semilogx(sample_mean_T, label=\"Cumulative sample mean\")\n",
    "plt.axhline(true_mean_T, color=colors[\"orange\"], linestyle='--', label=\"True mean\")\n",
    "plt.xlabel(r\"Number of samples, $n$\")\n",
    "plt.ylabel(r\"Sample mean, $\\widehat{\\mu}_n$\")\n",
    "plt.legend();  #add a semi-colon to suppress output saying that there was a plot"
   ]
  },
  {
   "cell_type": "markdown",
   "id": "14",
   "metadata": {},
   "source": [
    "#### Do you notice that\n",
    "* The sample mean converges to the true (population) mean\n",
    "* The convergence is not monotonic, but oscillatory\n",
    "* Each time that you run the cell above the output changes"
   ]
  },
  {
   "cell_type": "markdown",
   "id": "15",
   "metadata": {},
   "source": [
    "## What is the convergence rate?\n",
    "\n",
    "Now let's repeat this experiment $R$ times and look at the average convergence. Notice that the error tends to zero at a rate of $\\mathcal{O}(n^{-1/2})$.  For $r =  1, 2, \\ldots, R$"
   ]
  },
  {
   "cell_type": "code",
   "execution_count": null,
   "id": "16",
   "metadata": {},
   "outputs": [],
   "source": [
    "display(Markdown(fr\"\"\"\n",
    "\\begin{{gather}}\n",
    "W_{{11}}^{{(r)}}, W^{{(r)}}_{{21}}, \\ldots \\overset{{\\text{{IID}}}}{{\\sim}} \\mathcal{{U}}[0,{wait_L_time}] \\\\\n",
    "W_{{12}}^{{(r)}}, W_{{22}}^{{(r)}}, \\ldots \\overset{{\\text{{IID}}}}{{\\sim}} \\text{{zero inflated exponential}} \\\\\n",
    "T_{{i}}^{{(r)}} = {T0} + W_{{i1}}^{{(r)}} + W_{{i2}}^{{(r)}}. \\quad i=1, 2 \\ldots \n",
    "\\end{{gather}}\n",
    "\"\"\"))"
   ]
  },
  {
   "cell_type": "markdown",
   "id": "17",
   "metadata": {},
   "source": [
    "and then compute the sample mean\n",
    "$$\n",
    "\\widehat{\\mu}_n^{(r)} = \\frac 1n \\sum_{i=1}^n T_i^{(r)}, \\quad n = 1, 2, \\ldots\n",
    "$$"
   ]
  },
  {
   "cell_type": "code",
   "execution_count": null,
   "id": "18",
   "metadata": {},
   "outputs": [],
   "source": [
    "R = 100 #number of replications\n",
    "W1_R_samples = W1.rvs(size=(n_max,R))  #generate R replications of samples of waiting times for the 'L'\n",
    "W2_R_samples = W2.rvs(size=(n_max,R))  #generate R replications of samples of waiting times for the taxi\n",
    "T_R_samples = 47 + W1_R_samples + W2_R_samples  #generate N replications of samples of total travel time\n",
    "sample_mean_T_R_reps = np.cumsum(T_R_samples, axis = 0) / nrange[:, None]   #compute the travel time sample means for all N replications\n",
    "error_sample_mean_T = np.abs(true_mean_T - sample_mean_T_R_reps)  #errors\n",
    "bot_per = 25\n",
    "top_per = 75\n",
    "err_bot = np.percentile(error_sample_mean_T, bot_per, axis=1)\n",
    "err_med = np.percentile(error_sample_mean_T, 50, axis=1)\n",
    "err_top = np.percentile(error_sample_mean_T, top_per, axis=1)\n",
    "fig, ax = plt.subplots()\n",
    "ax.loglog(nrange,err_med, '-', color = colors[\"blue\"], label=\"median error\")\n",
    "ax.fill_between(nrange, err_bot, err_top, color = colors[\"blue\"],alpha = 0.3, linewidth = 0)\n",
    "init.plot_rate_line(ax, nrange[[-1,0]], y_start=err_med[-1], rate=0.5, color=colors[\"orange\"])\n",
    "ax.set_xlabel(r\"Number of samples, $n$\")\n",
    "ax.set_ylabel(r\"Error, $| \\mu - \\hat{\\mu}^{(r)}_n |$\")\n",
    "ax.set_title(f\"$R = {R}$ Replications\")\n",
    "plt.legend(frameon=False);"
   ]
  },
  {
   "cell_type": "markdown",
   "id": "19",
   "metadata": {},
   "source": [
    "### Root mean squared error\n",
    "\n",
    "We know that the sample mean, $\\widehat{\\mu}_n$ has variance $\\sigma^2/n$, where $\\sigma^2$ is the variance of $T$.  Since $T$ is a sum of independent random variables, we can compute its variance"
   ]
  },
  {
   "cell_type": "code",
   "execution_count": null,
   "id": "20",
   "metadata": {},
   "outputs": [],
   "source": [
    "true_var_T = W1.var() + W2.var()  #the variance of a sum of independent variables is the sum of the variances\n",
    "true_std_T = np.sqrt(true_var_T)\n",
    "print(f\"Variance of travel time = \\u03C3\\u00B2 ={true_var_T : .1f}, which means standard deviation = \\u03C3 ={true_std_T : .1f}\")"
   ]
  },
  {
   "cell_type": "markdown",
   "id": "21",
   "metadata": {},
   "source": [
    "### Central Limit Theorem\n",
    "\n",
    "For large $n$, $\\widehat{\\mu}_n$ is approximately distributed $\\mathcal{N}(\\mu,\\sigma^2/n)$ and so for approximately \n",
    "* 25% of the replications, the absolute error would be below the 62.5% percentile of the standard normal times $\\sigma/\\sqrt{n}$\n",
    "* 50% of the replications, the absolute error would be below the 75% percentile of the standard normal times $\\sigma/\\sqrt{n}$\n",
    "* 75% of the replications, the absolute error would be below the 87.5% percentile of the standard normal times $\\sigma/\\sqrt{n}$"
   ]
  },
  {
   "cell_type": "code",
   "execution_count": null,
   "id": "22",
   "metadata": {},
   "outputs": [],
   "source": [
    "fig, ax = plt.subplots()\n",
    "ax.loglog(nrange,err_med, '-', color = colors[\"blue\"], label=\"median error\")\n",
    "ax.fill_between(nrange, err_bot, err_top, color = colors[\"blue\"],alpha = 0.3, linewidth = 0)\n",
    "init.plot_rate_line(ax, nrange[[0,-1]], y_start=true_std_T*stats.norm.ppf(0.75), rate=0.5, color=colors[\"orange\"])\n",
    "init.plot_rate_line(ax, nrange[[0,-1]], y_start=true_std_T*stats.norm.ppf(0.625), rate=0.5, color=colors[\"green\"], label=\"\")\n",
    "init.plot_rate_line(ax, nrange[[0,-1]], y_start=true_std_T*stats.norm.ppf(0.875), rate=0.5, color=colors[\"green\"], label=\"\")\n",
    "ax.set_xlabel(r\"Number of samples, $n$\")\n",
    "ax.set_ylabel(r\"Error, $| \\mu - \\hat{\\mu}^{(r)}_n |$\")\n",
    "ax.set_title(f\"$R = {R}$ Replications\")\n",
    "plt.legend(frameon=False);"
   ]
  },
  {
   "cell_type": "markdown",
   "id": "23",
   "metadata": {},
   "source": [
    "## What if we do not know the standard deviation\n",
    "For realistic examples where we do not know the standard deviation, we can construct an approximate confidence interval\n",
    "\n"
   ]
  },
  {
   "cell_type": "code",
   "execution_count": null,
   "id": "24",
   "metadata": {},
   "outputs": [],
   "source": [
    "#First we estimate the standard deviation\n",
    "confid_level = 0.99\n",
    "q_confid = - stats.norm.ppf((1-confid_level)/2.)\n",
    "n_sig = 100  #pilot sample size\n",
    "W1_sig_samples =  W1.rvs(size=n_sig)  #generate samples of waiting times for the 'L'\n",
    "W2_sig_samples =  W2.rvs(size=n_sig)  #generate samples of waiting times for the taxi\n",
    "T_sig_samples = 47 + W1_sig_samples + W2_sig_samples  #generate samples of total travel time\n",
    "sample_std_T = np.std(T_sig_samples)\n",
    "\n",
    "#Next we estimate the mean with an independent set of samples\n",
    "n_mean = 10000  #pilot sample size\n",
    "W1_mean_samples =  W1.rvs(size=n_mean)  #generate samples of waiting times for the 'L'\n",
    "W2_mean_samples =  W2.rvs(size=n_mean)  #generate samples of waiting times for the taxi\n",
    "T_mean_samples = 47 + W1_mean_samples + W2_mean_samples  #generate samples of total travel time\n",
    "sample_mean_T = np.mean(T_mean_samples)  #compute the travel time sample means for first 1, 2, ..., n samples\n",
    "confid_interval = sample_mean_T + np.array([-1,1])*(q_confid*sample_std_T)/np.sqrt(n_mean)\n",
    "print(f\"The mean travel time is within the interval [{confid_interval[0]:.1f},{confid_interval[1]:.1f}] with probability about{100*confid_level:.1f}%\")"
   ]
  },
  {
   "cell_type": "markdown",
   "id": "25",
   "metadata": {},
   "source": [
    "## What about percentiles or quantiles\n",
    "You may be more interested in the 90% of the travel time, to reduce the chance of arriving late.  This can be calculated analytically for this simple case, but we can also illustrate Monte Carlo using the sample quantile function."
   ]
  },
  {
   "cell_type": "code",
   "execution_count": null,
   "id": "26",
   "metadata": {},
   "outputs": [],
   "source": [
    "prob = 0.9  #the quantile value we are interested in\n",
    "sample_quantiles_T_R_reps = np.quantile(T_R_samples, prob, axis=0)\n",
    "mean_sample_quantiles = sample_quantiles_T_R_reps.mean()\n",
    "print(f\"With probability{prob*100 : 0.1f}% you will make it to your friend's house within {mean_sample_quantiles : 0.1f} minutes\")"
   ]
  },
  {
   "cell_type": "markdown",
   "id": "27",
   "metadata": {},
   "source": [
    "## Another kind of sampling\n",
    "\n",
    "The examples above use independent and identically distributed (IID) sampling.  There is another kind of sampling called low discrepancy (LD) sampling that give faster convergence.  Here is an example."
   ]
  },
  {
   "cell_type": "code",
   "execution_count": null,
   "id": "28",
   "metadata": {},
   "outputs": [],
   "source": [
    "n_LD_max = 2**13  #must be a power of 2\n",
    "n_LD_range = np.arange(1, n_LD_max+1)\n",
    "LD_X_R_samples = qp.Sobol(dimension=2,replications=R).gen_samples(n_LD_max)\n",
    "W1_LD_R_samples = W1.ppf(LD_X_R_samples[:,:,0])  #generate R replications of samples of waiting times for the 'L'\n",
    "W2_LD_R_samples = W2.ppf(LD_X_R_samples[:,:,1])  #generate R replications of samples of waiting times for the taxi\n",
    "T_LD_R_samples = 47 + W1_LD_R_samples + W2_LD_R_samples  #generate N replications of samples of total travel time\n",
    "sample_mean_T_LD_R_reps = np.cumsum(T_LD_R_samples, axis = 1) / n_LD_range   #compute the travel time sample means for all N replications\n",
    "error_sample_mean_T_LD = np.abs(true_mean_T - sample_mean_T_LD_R_reps)  #errors\n",
    "err_LD_bot = np.percentile(error_sample_mean_T_LD, bot_per, axis=0)\n",
    "err_LD_med = np.percentile(error_sample_mean_T_LD, 50, axis=0)\n",
    "err_LD_top = np.percentile(error_sample_mean_T_LD, top_per, axis=0)\n",
    "fig, ax = plt.subplots()\n",
    "ax.loglog(nrange,err_med, '-', color = colors[\"blue\"], label=\"median IID error\")\n",
    "ax.loglog(n_LD_range,err_LD_med, '-', color = colors[\"purple\"], label=\"median LD error\")\n",
    "ax.fill_between(n_LD_range, err_LD_bot, err_LD_top, color = colors[\"purple\"],alpha = 0.3, linewidth = 0)\n",
    "ax.set_xlabel(r\"Number of samples, $n$\")\n",
    "ax.set_ylabel(r\"Error, $| \\mu - \\hat{\\mu}^{(r)}_n |$\")\n",
    "ax.set_title(f\"$R = {R}$ Replications\")\n",
    "plt.legend(frameon=False);"
   ]
  },
  {
   "cell_type": "markdown",
   "id": "29",
   "metadata": {},
   "source": [
    "#### Notice the faster convergence. This is a teaser for later in the course.\n",
    "\n",
    "We can begin to see why by plotting IID and LD wait times.  Note that LD has fewer gaps and clusters"
   ]
  },
  {
   "cell_type": "code",
   "execution_count": null,
   "id": "30",
   "metadata": {},
   "outputs": [],
   "source": [
    "#First the IID sampling\n",
    "plt.semilogy(W1_samples[:1000],W2_samples[:1000],'.')\n",
    "plt.xlabel(\"Waiting for the 'L'\")\n",
    "plt.ylabel(\"Waiting for the taxi\")\n",
    "plt.title(\"IID Sampling\");"
   ]
  },
  {
   "cell_type": "code",
   "execution_count": null,
   "id": "31",
   "metadata": {},
   "outputs": [],
   "source": [
    "#Next the LD sampling\n",
    "plt.semilogy(W1_LD_R_samples[0,:1000],W2_LD_R_samples[0,:1000],'.')\n",
    "plt.xlabel(\"Waiting for the 'L'\")\n",
    "plt.ylabel(\"Waiting for the taxi\")\n",
    "plt.title(\"LD Sampling\");"
   ]
  },
  {
   "cell_type": "code",
   "execution_count": null,
   "id": "32",
   "metadata": {},
   "outputs": [],
   "source": []
  }
 ],
 "metadata": {
  "kernelspec": {
   "display_name": "Python 3 (ipykernel)",
   "language": "python",
   "name": "python3"
  },
  "language_info": {
   "codemirror_mode": {
    "name": "ipython",
    "version": 3
   },
   "file_extension": ".py",
   "mimetype": "text/x-python",
   "name": "python",
   "nbconvert_exporter": "python",
   "pygments_lexer": "ipython3",
   "version": "3.12.11"
  }
 },
 "nbformat": 4,
 "nbformat_minor": 5
}
