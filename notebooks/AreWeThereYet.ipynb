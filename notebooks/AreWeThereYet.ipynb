{
 "cells": [
  {
   "cell_type": "markdown",
   "id": "0",
   "metadata": {},
   "source": [
    "# Are We There Yet?\n",
    "\n",
    "You are visiting your friend and it will require\n",
    "* A 5 minute walk to the ‘L’ station\n",
    "* Waiting for the train, which arrives every 20 minutes\n",
    "* Traveling 35 minutes by ‘L’\n",
    "* Catching a taxi at the ‘L’ destination\n",
    "  * There is a 20% chance that the car is waiting for you\n",
    "  * Otherwise the average wait time is 10 minutes\n",
    "* A 12 minute taxi ride \n",
    "\n",
    "_How long should you plan for the trip to take?_\n",
    "\n",
    "#### Some LaTeX macros (hidden in math mode, will not render correctly in VS Code)\n",
    "$\n",
    "\\newcommand{\\vh}{\\boldsymbol{h}}\n",
    "\\newcommand{\\vt}{\\boldsymbol{t}}\n",
    "\\newcommand{\\vx}{\\boldsymbol{x}}\n",
    "\\newcommand{\\vX}{\\boldsymbol{X}}\n",
    "\\newcommand{\\cf}{\\mathcal{F}}\n",
    "\\newcommand{\\cu}{\\mathcal{U}}\n",
    "\\newcommand{\\dif}{\\mathrm{d}}\n",
    "\\newcommand{\\Ex}{\\mathbb{E}}\n",
    "\\DeclareMathOperator{\\disc}{disc}\n",
    "\\DeclareMathOperator{\\Prob}{\\mathbb{P}}\n",
    "% \\norm{x}{2} -> \\left\\lVert x \\right\\rVert_{2}\n",
    "\\newcommand{\\norm}[2]{{\\left \\lVert #1 \\right \\rVert}_{#2}}\n",
    "$"
   ]
  },
  {
   "cell_type": "markdown",
   "id": "1",
   "metadata": {},
   "source": [
    "#### Either run this notebook in Juypter with the `conda qmcpy` environment or [![Open In Colab](https://colab.research.google.com/assets/colab-badge.svg)](https://colab.research.google.com/github/QMCSoftware/MATH565Fall2025/blob/main/notebooks/AreWeThereYet.ipynb)"
   ]
  },
  {
   "cell_type": "code",
   "execution_count": null,
   "id": "2",
   "metadata": {},
   "outputs": [],
   "source": [
    "if \"google.colab\" in str(get_ipython()):\n",
    "    print(\"⚡Note: Setup here can take a few minutes.\")\n",
    "    !apt-get -y install cm-super dvipng texlive-latex-extra texlive-latex-recommended\n",
    "    !pip install git+https://github.com/QMCSoftware/QMCSoftware.git@develop\n",
    "    !git clone https://github.com/QMCSoftware/MATH565Fall2025.git\n",
    "    %cd MATH565Fall2025/notebooks\n",
    "    print(\"\\n✅ Colab setup complete.\")\n",
    "    print(\"   For faster performance, please install the qmcpy environment locally.\")"
   ]
  },
  {
   "cell_type": "markdown",
   "id": "3",
   "metadata": {},
   "source": [
    "## Mathematical set-up\n",
    "\\begin{aligned}\n",
    "T & = \\text{travel time} = 5 + W_1 + 30 + W_2 + 12 = 47 + W_1 + W_2 \\\\\n",
    "W_1 & = \\text{waiting time for 'L' train} \\sim \\mathcal{U}[0,20] \\\\\n",
    "W_2 & = \\text{waiting time for taxi}, \\quad \n",
    "\\Prob(W_2 \\le w) = \\begin{cases} 0, & w < 0 \\\\ 0.2+ 0.04 \\exp(-w/20), & w \\ge 0 \\end{cases}\n",
    "\\end{aligned}\n",
    "\n",
    "We assume that $W_1$ and $W_2$ are independent\n",
    "\n",
    "We will now perform Monte Carlo simulation\n"
   ]
  },
  {
   "cell_type": "markdown",
   "id": "4",
   "metadata": {},
   "source": [
    "## Monte Carlo estimation of the average waiting time\n",
    "\n",
    "### Import needed packages and initialize some parameters"
   ]
  },
  {
   "cell_type": "code",
   "execution_count": null,
   "id": "5",
   "metadata": {},
   "outputs": [],
   "source": [
    "import matplotlib.pyplot as plt\n",
    "import math, time, timeit, sys\n",
    "import numpy as np\n",
    "import scipy as sp\n",
    "from scipy import stats\n",
    "import qmcpy as qp\n",
    "import sympy as sy\n",
    "import mc_class as init\n",
    "init.init()                 # apply rcParams + numpy error policy\n",
    "colors = init.get_py_colors()"
   ]
  },
  {
   "cell_type": "markdown",
   "id": "6",
   "metadata": {},
   "source": [
    "### Set up random variables $W_1$ and $W_2$"
   ]
  },
  {
   "cell_type": "code",
   "execution_count": null,
   "id": "7",
   "metadata": {},
   "outputs": [],
   "source": [
    "# --- Parameters\n",
    "T0 = 47 # fixed time\n",
    "L_time = 20  #max time until next 'L' train\n",
    "taxi_now = 0.2  #probability of taxi now\n",
    "taxi_wait_avg = 10  #average time to wait for a taxi if it is not there\n",
    "\n",
    "\n",
    "# --- W1: Uniform(0, L_time) ---\n",
    "W1 = stats.uniform(loc=0, scale=L_time)  #this is the waiting time for the 'L'\n",
    "\n",
    "# --- W2: Zero-inflated Exponential ---\n",
    "# Since scipy does not have a zero-inflated exponential we define it with the help of ChatGPT\n",
    "class zero_inflated_expon(stats.rv_continuous):\n",
    "    def __init__(self, p_zero=0.2, rate=1.0, *args, **kwargs):\n",
    "        super().__init__(*args, **kwargs)\n",
    "        self.p_zero = p_zero   # probability mass at zero\n",
    "        self.rate = rate       # exponential rate λ\n",
    "\n",
    "    def _rvs(self, size=None, random_state=None):\n",
    "        u = random_state.random(size)\n",
    "        # where u < p_zero → return 0, else exponential sample\n",
    "        x = np.zeros(size)\n",
    "        mask = u >= self.p_zero\n",
    "        x[mask] = random_state.exponential(scale=1/self.rate, size=np.sum(mask))\n",
    "        return x\n",
    "\n",
    "    def _pdf(self, x):\n",
    "        # define PDF: a point mass at 0 plus exponential density for x > 0\n",
    "        # strictly speaking this is a mixed distribution, so pdf is not well-defined at 0\n",
    "        return np.where(x > 0, (1 - self.p_zero) * self.rate * np.exp(-self.rate * x), 0.0)\n",
    "\n",
    "    def _cdf(self, x):\n",
    "        return np.where(\n",
    "            x < 0, 0.0,\n",
    "            np.where(\n",
    "                x == 0, self.p_zero,\n",
    "                self.p_zero + (1 - self.p_zero) * (1 - np.exp(-self.rate * x))\n",
    "            )\n",
    "        )\n",
    "\n",
    "# Set the parameters for our \n",
    "W2 = zero_inflated_expon(p_zero=taxi_now, rate=1/taxi_wait_avg, name=\"ziexp\")"
   ]
  },
  {
   "cell_type": "markdown",
   "id": "8",
   "metadata": {},
   "source": [
    "### Compute the true (population) mean travel time"
   ]
  },
  {
   "cell_type": "code",
   "execution_count": null,
   "id": "9",
   "metadata": {},
   "outputs": [],
   "source": [
    "true_mean_T = 47 + W1.mean() + W2.mean()  #use the mean properties of the random variables, in this case the answer is simple\n",
    "print(f\"Mean travel time = {true_mean_T : .1f}\")"
   ]
  },
  {
   "cell_type": "markdown",
   "id": "10",
   "metadata": {},
   "source": [
    "### Generate random samples and compute the sample mean travel time"
   ]
  },
  {
   "cell_type": "code",
   "execution_count": null,
   "id": "11",
   "metadata": {},
   "outputs": [],
   "source": [
    "n = 10**4  #sample size\n",
    "nrange =  np.arange(1, n+1)\n",
    "W1_samples =  W1.rvs(size=n)  #generate samples of waiting times for the 'L'\n",
    "W2_samples =  W2.rvs(size=n)  #generate samples of waiting times for the taxi\n",
    "T_samples = 47 + W1_samples + W2_samples  #generate samples of total travel time\n",
    "sample_mean_T = np.cumsum(T_samples) / nrange  #compute the travel time sample means for first 1, 2, ..., n samples\n",
    "\n",
    "plt.semilogx(sample_mean_T, label=\"Cumulative sample mean\")\n",
    "plt.axhline(true_mean_T, color=colors[\"orange\"], linestyle='--', label=\"True mean\")\n",
    "plt.xlabel(r\"Number of samples, $n$\")\n",
    "plt.ylabel(r\"Sample mean, $\\hat{\\mu}_n$\")\n",
    "plt.legend()\n",
    "plt.show()"
   ]
  },
  {
   "cell_type": "markdown",
   "id": "12",
   "metadata": {},
   "source": [
    "#### Do you notice that\n",
    "* The sample mean converges to the true (population) mean\n",
    "* The convergence is not monotonic, but oscillatory\n",
    "* Each time that you run the cell above the output changes"
   ]
  },
  {
   "cell_type": "markdown",
   "id": "13",
   "metadata": {},
   "source": [
    "### What is the convergence rate?\n",
    "\n",
    "Now let's repeat this experiment N times and look at the average convergence. Notice that the error tends to zero at a rate of $\\mathcal{O}(n^{-1/2})$"
   ]
  },
  {
   "cell_type": "code",
   "execution_count": null,
   "id": "14",
   "metadata": {},
   "outputs": [],
   "source": [
    "N = 100 #number of replications\n",
    "W1_N_samples =  W1.rvs(size=(n,N))  #generate N replications of samples of waiting times for the 'L'\n",
    "W2_N_samples =  W2.rvs(size=(n,N))  #generate N replications of samples of waiting times for the taxi\n",
    "T_N_samples = 47 + W1_N_samples + W2_N_samples  #generate N replications of samples of total travel time\n",
    "sample_mean_T_N_reps = np.cumsum(T_N_samples, axis = 0) / np.arange(1, n+1)[:, None]   #compute the travel time sample means for all N replications\n",
    "error_sample_mean_T = np.abs(true_mean_T - sample_mean_T_N_reps)  #errors\n",
    "bot_per = 25\n",
    "top_per = 75\n",
    "err_bot = np.percentile(error_sample_mean_T, bot_per, axis=1)\n",
    "err_med = np.percentile(error_sample_mean_T, 50, axis=1)\n",
    "err_top = np.percentile(error_sample_mean_T, top_per, axis=1)\n",
    "fig, ax = plt.subplots()\n",
    "ax.loglog(nrange,err_med, '-', color = colors[\"blue\"], label=\"median error\")\n",
    "ax.fill_between(nrange, err_bot, err_top, color = colors[\"blue\"],alpha = 0.3, linewidth = 0)\n",
    "init.plot_rate_line(ax, nrange[[-1,0]], y_start=err_med[-1], rate=0.5, color=colors[\"orange\"])\n",
    "plt.legend(frameon=False);"
   ]
  },
  {
   "cell_type": "code",
   "execution_count": null,
   "id": "15",
   "metadata": {},
   "outputs": [],
   "source": []
  }
 ],
 "metadata": {
  "kernelspec": {
   "display_name": "Python 3 (ipykernel)",
   "language": "python",
   "name": "python3"
  },
  "language_info": {
   "codemirror_mode": {
    "name": "ipython",
    "version": 3
   },
   "file_extension": ".py",
   "mimetype": "text/x-python",
   "name": "python",
   "nbconvert_exporter": "python",
   "pygments_lexer": "ipython3",
   "version": "3.12.11"
  }
 },
 "nbformat": 4,
 "nbformat_minor": 5
}
