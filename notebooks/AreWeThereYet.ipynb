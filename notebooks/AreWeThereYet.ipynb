{
 "cells": [
  {
   "cell_type": "markdown",
   "id": "0",
   "metadata": {},
   "source": [
    "# Are We There Yet\n",
    "\n",
    "You are visiting your friend and it will require\n",
    "* A 5 minute walk to the ‘L’ station\n",
    "* Waiting for the train, which arrives every 20 minutes\n",
    "* Traveling 35 minutes by ‘L’\n",
    "* Catching a taxi at the ‘L’ destination\n",
    "  * There is a 20% chance that the car is waiting for you\n",
    "  * Otherwise the average wait time is 10 minutes\n",
    "* A 12 minute taxi ride \n",
    "\n",
    "_How long should you plan for the trip to take?_\n",
    "\n",
    "#### Some LaTeX macros (hidden in math mode) that will not render correctly in VS Code\n",
    "$\n",
    "\\newcommand{\\vh}{\\boldsymbol{h}}\n",
    "\\newcommand{\\vt}{\\boldsymbol{t}}\n",
    "\\newcommand{\\vx}{\\boldsymbol{x}}\n",
    "\\newcommand{\\vX}{\\boldsymbol{X}}\n",
    "\\newcommand{\\cf}{\\mathcal{F}}\n",
    "\\newcommand{\\cu}{\\mathcal{U}}\n",
    "\\newcommand{\\dif}{\\mathrm{d}}\n",
    "\\newcommand{\\Ex}{\\mathbb{E}}\n",
    "\\DeclareMathOperator{\\disc}{disc}\n",
    "\\DeclareMathOperator{\\Prob}{\\mathbb{P}}\n",
    "% \\norm{x}{2} -> \\left\\lVert x \\right\\rVert_{2}\n",
    "\\newcommand{\\norm}[2]{{\\left \\lVert #1 \\right \\rVert}_{#2}}\n",
    "%refresh this from latex_macros.py when needed, may be edited ad hoc\n",
    "$"
   ]
  },
  {
   "cell_type": "markdown",
   "id": "1",
   "metadata": {},
   "source": [
    "#### Either run this notebook in Juypter with the `conda qmcpy` environment or [![Open In Colab](https://colab.research.google.com/assets/colab-badge.svg)](https://colab.research.google.com/github/QMCSoftware/MATH565Fall2025/blob/main/notebooks/AreWeThereYet.ipynb) and then set the flag in the next cell to true"
   ]
  },
  {
   "cell_type": "code",
   "execution_count": null,
   "id": "2",
   "metadata": {},
   "outputs": [],
   "source": [
    "if False:  #Running on colab?\n",
    "    !sudo apt install cm-super dvipng texlive-latex-extra texlive-latex-recommended\n",
    "    !sudo apt install cm-super\n",
    "    !pip install git+https://github.com/QMCSoftware/QMCSoftware.git@develop"
   ]
  },
  {
   "cell_type": "markdown",
   "id": "3",
   "metadata": {},
   "source": [
    "## Mathematical set-up\n",
    "\\begin{aligned}\n",
    "T & = \\text{travel time} = 5 + W_1 + 30 + W_2 + 12 = 47 + W_1 + W_2 \\\\\n",
    "W_1 & = \\text{waiting time for 'L' train} \\sim \\mathcal{U}[0,20] \\\\\n",
    "W_2 & = \\text{waiting time for taxi}, \\quad \n",
    "\\Prob(W_2 \\le w) = \\begin{cases} 0, & w < 0 \\\\ 0.2+ 0.8 \\exp(-w/20), & w \\ge 0 \\end{cases}\n",
    "\\end{aligned}\n",
    "\n",
    "We assume that $W_1$ and $W_2$ are independent\n",
    "\n",
    "We will now perform Monte Carlo simulation\n"
   ]
  },
  {
   "cell_type": "markdown",
   "id": "4",
   "metadata": {},
   "source": [
    "## Monte Carlo estimation of the average waiting time\n",
    "\n",
    "### Import needed packages"
   ]
  },
  {
   "cell_type": "code",
   "execution_count": null,
   "id": "5",
   "metadata": {},
   "outputs": [],
   "source": [
    "import matplotlib.pyplot as plt\n",
    "import matplotlib.patches as patches\n",
    "from matplotlib import cm\n",
    "import math\n",
    "import numpy as np\n",
    "import scipy as sp\n",
    "import qmcpy as qp\n",
    "import sympy as sy\n",
    "#from scipy import stats\n",
    "#from copy import deepcopy\n",
    "import time\n",
    "import timeit\n",
    "import pickle\n",
    "import sys\n",
    "np.seterr(divide='raise', invalid='raise') #check for divide by zeros\n",
    "\n",
    "#These are parameters needed for figures\n",
    "figpath = 'Caltech2025MarchFigures/' #this path sends the figures to the directory that you want\n",
    "savefigs = True  #save the figures on your disk if True\n",
    "imgfrmt = 'pdf' #kind of format to save figures as\n",
    "long_compute = True #redo the long computations\n",
    "font_family = \"serif\"\n",
    "plt.rcParams.update({\n",
    "    \"font.family\" : font_family,\n",
    "    \"text.usetex\" : True,  \n",
    "    \"mathtext.fontset\" : \"dejavuserif\",\n",
    "    \"axes.labelsize\" : 18,\n",
    "    \"axes.titlesize\" : 18,\n",
    "    \"xtick.labelsize\" : 14,\n",
    "    \"ytick.labelsize\" : 14\n",
    "})"
   ]
  },
  {
   "cell_type": "code",
   "execution_count": null,
   "id": "6",
   "metadata": {},
   "outputs": [],
   "source": [
    "# ---- Sanity check: qmcpy ----\n",
    "n = 2**10\n",
    "x = qp.Sobol(3).gen_samples(n)\n",
    "print(\"Generated\", n, \"samples in 3D Sobol sequence:\")\n",
    "print(x[:5])  # Print first 5 samples for brevity\n",
    "variance = np.var(x, axis=0)\n",
    "print(\"Variance of all samples:\", variance)"
   ]
  },
  {
   "cell_type": "code",
   "execution_count": null,
   "id": "7",
   "metadata": {},
   "outputs": [],
   "source": [
    "# ---- Sanity check: matplotlib preferences ----\n",
    "\n",
    "x = np.linspace(0, 1, 200)\n",
    "y = np.sin(2*np.pi*x)\n",
    "plt.plot(x, y, label=r\"$\\norm{2}{\\vx}$\")\n",
    "plt.title(\"Test Plot with Custom Norm\")\n",
    "plt.xlabel(r\"$\\vx$\")\n",
    "plt.legend(); plt.show()"
   ]
  },
  {
   "cell_type": "code",
   "execution_count": null,
   "id": "8",
   "metadata": {},
   "outputs": [],
   "source": []
  }
 ],
 "metadata": {
  "kernelspec": {
   "display_name": "Python 3 (ipykernel)",
   "language": "python",
   "name": "python3"
  },
  "language_info": {
   "codemirror_mode": {
    "name": "ipython",
    "version": 3
   },
   "file_extension": ".py",
   "mimetype": "text/x-python",
   "name": "python",
   "nbconvert_exporter": "python",
   "pygments_lexer": "ipython3",
   "version": "3.12.11"
  }
 },
 "nbformat": 4,
 "nbformat_minor": 5
}
