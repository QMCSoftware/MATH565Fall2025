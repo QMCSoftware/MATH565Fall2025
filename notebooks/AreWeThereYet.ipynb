{
 "cells": [
  {
   "cell_type": "markdown",
   "id": "0",
   "metadata": {},
   "source": [
    "# Are We There Yet\n",
    "\n",
    "You are visiting your friend and it will require\n",
    "* A 5 minute walk to the ‘L’ station\n",
    "* Waiting for the train, which arrives every 20 minutes\n",
    "* Traveling 35 minutes by ‘L’\n",
    "* Catching a taxi at the ‘L’ destination\n",
    "  * There is a 20% chance that the car is waiting for you\n",
    "  * Otherwise the average wait time is 10 minutes\n",
    "* A 12 minute taxi ride \n",
    "\n",
    "_How long should you plan for the trip to take?_\n",
    "\n",
    "#### Some LaTeX macros (hidden in math mode) that will not render correctly in VS Code\n",
    "$\n",
    "\\newcommand{\\vh}{\\boldsymbol{h}}\n",
    "\\newcommand{\\vt}{\\boldsymbol{t}}\n",
    "\\newcommand{\\vx}{\\boldsymbol{x}}\n",
    "\\newcommand{\\vX}{\\boldsymbol{X}}\n",
    "\\newcommand{\\cf}{\\mathcal{F}}\n",
    "\\newcommand{\\cu}{\\mathcal{U}}\n",
    "\\newcommand{\\dif}{\\mathrm{d}}\n",
    "\\newcommand{\\Ex}{\\mathbb{E}}\n",
    "\\DeclareMathOperator{\\disc}{disc}\n",
    "% \\norm{x}{2} -> \\left\\lVert x \\right\\rVert_{2}\n",
    "\\newcommand{\\norm}[2]{{\\left \\lVert #1 \\right \\rVert}_{#2}}\n",
    "%refresh this from latex_macros.py when needed, may be edited ad hoc\n",
    "$\n",
    "\n",
    "#### Run the next cell for set up."
   ]
  },
  {
   "cell_type": "code",
   "execution_count": null,
   "id": "1",
   "metadata": {},
   "outputs": [],
   "source": [
    "import sys, platform, subprocess, shlex\n",
    "print(\"Python:\", sys.version)\n",
    "print(\"Executable:\", sys.executable)\n",
    "try:\n",
    "    out = subprocess.check_output(shlex.split(\"which nbstripout\")).decode().strip()\n",
    "    print(\"nbstripout:\", out)\n",
    "except Exception as e:\n",
    "    print(\"nbstripout not found on PATH:\", e)"
   ]
  },
  {
   "cell_type": "markdown",
   "id": "2",
   "metadata": {},
   "source": [
    "Either run this notebook in Juypter with the `conda qmcpy` environment or\n",
    "[![Open In Colab](https://colab.research.google.com/assets/colab-badge.svg)](https://colab.research.google.com/github/QMCSoftware/MATH565Fall2025/blob/main/notebooks/AreWeThereYet.ipynb)"
   ]
  },
  {
   "cell_type": "code",
   "execution_count": null,
   "id": "3",
   "metadata": {},
   "outputs": [],
   "source": [
    "# --- Unified bootstrap cell (works local + Colab, no double badge) ---\n",
    "import os, sys, pathlib, subprocess\n",
    "\n",
    "os.environ[\"NOTEBOOK_HEADER_AUTORUN\"] = \"0\"   # prevent autorun → no double badge\n",
    "os.environ[\"BOOT_BRANCH\"] = \"bootstrap_colab\" # use your working branch in Colab\n",
    "os.environ[\"AUTO_PLOT_PREFS\"] = \"1\"           # plotting prefs\n",
    "os.environ[\"QMCPY_BRANCH\"] = \"bootstrap_colab\"# qmcpy fallback branch\n",
    "\n",
    "ORG  = os.environ.get(\"BOOT_ORG\",  \"QMCSoftware\")   # defaults for quick starts\n",
    "REPO = os.environ.get(\"BOOT_REPO\", \"QMCSoftware\")\n",
    "\n",
    "# Colab-only: shallow clone so utils/ exists before import\n",
    "if (\"COLAB_RELEASE_TAG\" in os.environ) or (\"COLAB_GPU\" in os.environ):\n",
    "    repo_dir = pathlib.Path(f\"/content/{REPO}\")\n",
    "    if not repo_dir.exists():\n",
    "        subprocess.check_call([\n",
    "            \"git\",\"clone\",\"--depth\",\"1\",\"--recurse-submodules\",\n",
    "            \"-b\", os.environ[\"BOOT_BRANCH\"],\n",
    "            f\"https://github.com/{ORG}/{REPO}.git\", str(repo_dir)\n",
    "        ])\n",
    "    sys.path.insert(0, str(repo_dir / \"utils\"))  # import utils.notebook_header\n",
    "    try: os.chdir(repo_dir)\n",
    "    except Exception: pass\n",
    "else:\n",
    "    # Local: prefer your working copy\n",
    "    try:\n",
    "        root = subprocess.check_output([\"git\",\"rev-parse\",\"--show-toplevel\"], text=True).strip()\n",
    "        sys.path.insert(0, root + \"/utils\")\n",
    "    except Exception:\n",
    "        pass\n",
    "\n",
    "import utils.notebook_header as nh              # import header\n",
    "nh.main(quiet=True)                             # header finishes Colab bootstrap (submodules, pip, LaTeX, badge)"
   ]
  },
  {
   "cell_type": "markdown",
   "id": "4",
   "metadata": {},
   "source": [
    "Here is a markdown test of the macros: $\\vx$"
   ]
  },
  {
   "cell_type": "code",
   "execution_count": null,
   "id": "5",
   "metadata": {},
   "outputs": [],
   "source": [
    "# ---- Sanity check: qmcpy ----\n",
    "n = 2**10\n",
    "x = qp.Sobol(3).gen_samples(n)\n",
    "print(\"Generated\", n, \"samples in 3D Sobol sequence:\")\n",
    "print(x[:5])  # Print first 5 samples for brevity\n",
    "variance = np.var(x, axis=0)\n",
    "print(\"Variance of all samples:\", variance)"
   ]
  },
  {
   "cell_type": "code",
   "execution_count": null,
   "id": "6",
   "metadata": {},
   "outputs": [],
   "source": [
    "# ---- Sanity check: matplotlib preferences ----\n",
    "\n",
    "x = np.linspace(0, 1, 200)\n",
    "y = np.sin(2*np.pi*x)\n",
    "plt.plot(x, y, label=r\"$\\norm{2}{\\vx}$\")\n",
    "plt.title(\"Test Plot with Custom Norm\")\n",
    "plt.xlabel(r\"$\\vx$\")\n",
    "plt.legend(); plt.show()"
   ]
  },
  {
   "cell_type": "code",
   "execution_count": null,
   "id": "7",
   "metadata": {},
   "outputs": [],
   "source": []
  }
 ],
 "metadata": {
  "kernelspec": {
   "display_name": "Python 3 (ipykernel)",
   "language": "python",
   "name": "python3"
  },
  "language_info": {
   "codemirror_mode": {
    "name": "ipython",
    "version": 3
   },
   "file_extension": ".py",
   "mimetype": "text/x-python",
   "name": "python",
   "nbconvert_exporter": "python",
   "pygments_lexer": "ipython3",
   "version": "3.12.11"
  }
 },
 "nbformat": 4,
 "nbformat_minor": 5
}
