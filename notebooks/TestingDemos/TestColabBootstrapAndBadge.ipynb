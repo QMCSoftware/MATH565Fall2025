{
 "cells": [
  {
   "cell_type": "markdown",
   "id": "8bf40480-7b46-4d61-b6e5-30d7333f5668",
   "metadata": {},
   "source": [
    "# Test Colab Bootstrap and Badge\n",
    "This demos some code to facilitate running notebooks in Colab rather than a conda environment.\n",
    "\n",
    "Run the next two cells for set up."
   ]
  },
  {
   "cell_type": "code",
   "execution_count": null,
   "id": "b19a6f71",
   "metadata": {},
   "outputs": [
    {
     "data": {
      "text/html": [
       "If you are not running this notebook in the <code>conda qmcpy</code> environment, <a target=\"_blank\" href=\"https://colab.research.google.com/github/QMCSoftware/MATH565Fall2025/blob/main/notebooks/TestingDemos/TestColabBootstrapAndBadge.ipynb\"><img src=\"https://colab.research.google.com/assets/colab-badge.svg\" alt=\"Open In Colab\"/></a>, otherwise continue to the next cell for setup."
      ],
      "text/plain": [
       "<IPython.core.display.HTML object>"
      ]
     },
     "metadata": {},
     "output_type": "display_data"
    }
   ],
   "source": [
    "# Compact unified first cell (local + Colab) — one badge per run\n",
    "import os, sys, subprocess, pathlib, importlib\n",
    "\n",
    "# --- Configure this per notebook/repo ---\n",
    "os.environ[\"BOOT_ORG\"]   = \"QMCSoftware\"   # GitHub org (for Colab clone + badge)\n",
    "os.environ[\"BOOT_REPO\"]  = \"MATH565Fall2025\"  # Repo name\n",
    "os.environ[\"BOOT_BRANCH\"] = \"main\"            # Branch to open/clone\n",
    "os.environ[\"NB_PATH\"]    = \"notebooks/TestingDemos/TestColabBootstrapAndBadge.ipynb\"  # Path inside repo\n",
    "os.environ[\"NOTEBOOK_HEADER_AUTORUN\"] = \"0\"   # We call main() ourselves (prevents double badge)\n",
    "# Optional: flip LaTeX rendering on by setting: os.environ[\"USE_TEX\"] = \"1\"\n",
    "# ----------------------------------------\n",
    "\n",
    "IN_COLAB = (\"COLAB_RELEASE_TAG\" in os.environ) or (\"COLAB_GPU\" in os.environ)\n",
    "\n",
    "if IN_COLAB:\n",
    "    repo_dir = pathlib.Path(f\"/content/{os.environ['BOOT_REPO']}\")\n",
    "    if not repo_dir.exists():\n",
    "        subprocess.check_call([\n",
    "            \"git\",\"clone\",\"--depth\",\"1\",\"--recurse-submodules\",\n",
    "            \"-b\", os.environ[\"BOOT_BRANCH\"],\n",
    "            f\"https://github.com/{os.environ['BOOT_ORG']}/{os.environ['BOOT_REPO']}.git\",\n",
    "            str(repo_dir)\n",
    "        ])\n",
    "    sys.path.insert(0, str(repo_dir / \"utils\"))\n",
    "    try: os.chdir(repo_dir)\n",
    "    except Exception: pass\n",
    "else:\n",
    "    repo_root = subprocess.check_output(\n",
    "        [\"git\",\"rev-parse\",\"--show-toplevel\"], text=True\n",
    "    ).strip()\n",
    "    sys.path.insert(0, repo_root + \"/utils\")\n",
    "\n",
    "import notebook_header\n",
    "importlib.reload(notebook_header)  # ensure latest header code is used\n",
    "notebook_header.main()             # quiet by default; shows a single inline badge"
   ]
  },
  {
   "cell_type": "code",
   "execution_count": 3,
   "id": "be7d5252",
   "metadata": {
    "execution": {
     "iopub.execute_input": "2025-08-09T20:35:05.163005Z",
     "iopub.status.busy": "2025-08-09T20:35:05.162818Z",
     "iopub.status.idle": "2025-08-09T20:35:05.164867Z",
     "shell.execute_reply": "2025-08-09T20:35:05.164617Z",
     "shell.execute_reply.started": "2025-08-09T20:35:05.162988Z"
    }
   },
   "outputs": [],
   "source": [
    "# Optional: turn LaTeX on before running the header in Colab\n",
    "# %env USE_TEX=1\n",
    "# (Re-run the first cell afterwards to apply it)"
   ]
  },
  {
   "cell_type": "code",
   "execution_count": 4,
   "id": "c03dbd41",
   "metadata": {
    "execution": {
     "iopub.execute_input": "2025-08-09T20:35:05.165264Z",
     "iopub.status.busy": "2025-08-09T20:35:05.165175Z",
     "iopub.status.idle": "2025-08-09T20:35:06.870235Z",
     "shell.execute_reply": "2025-08-09T20:35:06.869890Z",
     "shell.execute_reply.started": "2025-08-09T20:35:05.165254Z"
    }
   },
   "outputs": [
    {
     "name": "stdout",
     "output_type": "stream",
     "text": [
      "usetex? False\n",
      "[[0.58627313 0.86891868 0.26980611]\n",
      " [0.32074897 0.3967108  0.73877979]\n",
      " [0.75693281 0.21617592 0.93989297]\n",
      " [0.02269348 0.54945257 0.03391243]\n",
      " [0.73223508 0.36306322 0.13787041]\n",
      " [0.49796524 0.9025586  0.85732787]\n",
      " [0.92432248 0.71032025 0.5889536 ]\n",
      " [0.15882883 0.05530064 0.43345683]]\n"
     ]
    }
   ],
   "source": [
    "# ---- Sanity check: matplotlib mode ----\n",
    "import matplotlib as mpl\n",
    "print(\"usetex?\", mpl.rcParams.get(\"text.usetex\"))\n",
    "\n",
    "# ---- Sanity check: qmcpy ----\n",
    "import qmcpy as qp\n",
    "print(qp.Sobol(3).gen_samples(8))"
   ]
  },
  {
   "cell_type": "code",
   "execution_count": null,
   "id": "13cd38c2",
   "metadata": {},
   "outputs": [],
   "source": []
  }
 ],
 "metadata": {
  "kernelspec": {
   "display_name": "qmcpy",
   "language": "python",
   "name": "python3"
  },
  "language_info": {
   "codemirror_mode": {
    "name": "ipython",
    "version": 3
   },
   "file_extension": ".py",
   "mimetype": "text/x-python",
   "name": "python",
   "nbconvert_exporter": "python",
   "pygments_lexer": "ipython3",
   "version": "3.9.13"
  }
 },
 "nbformat": 4,
 "nbformat_minor": 5
}
