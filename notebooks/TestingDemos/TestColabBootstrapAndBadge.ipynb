{
 "cells": [
  {
   "cell_type": "markdown",
   "id": "8bf40480-7b46-4d61-b6e5-30d7333f5668",
   "metadata": {},
   "source": [
    "# Test Colab Bootstrap and Badge\n",
    "This demos some code to facilitate running notebooks in Colab rather than a conda environment.\n",
    "\n",
    "Run the next two cells for set up."
   ]
  },
  {
   "cell_type": "code",
   "execution_count": null,
   "id": "b19a6f71",
   "metadata": {},
   "outputs": [
    {
     "data": {
      "text/html": [
       "If you are not running this notebook in the <code>conda qmcpy</code> environment, <a target=\"_blank\" href=\"https://colab.research.google.com/github/QMCSoftware/MATH565Fall2025/blob/main/notebooks/TestingDemos/TestColabBootstrapAndBadge.ipynb\"><img src=\"https://colab.research.google.com/assets/colab-badge.svg\" alt=\"Open In Colab\"/></a> and run the cell above again. Otherwise, continue to the next cell."
      ],
      "text/plain": [
       "<IPython.core.display.HTML object>"
      ]
     },
     "metadata": {},
     "output_type": "display_data"
    }
   ],
   "source": [
    "# --- Clean unified first cell (works in local + Colab) ---\n",
    "import os, sys, subprocess, pathlib, importlib\n",
    "\n",
    "# Notebook org, repo, path\n",
    "os.environ[\"BOOT_ORG\"]  = \"QMCSoftware\"                                            # GitHub org\n",
    "os.environ[\"BOOT_REPO\"] = \"MATH565Fall2025\"                                        # GitHub repo\n",
    "os.environ[\"NB_PATH\"]   = \"notebooks/TestingDemos/TestColabBootstrapAndBadge.ipynb\" # Notebook path\n",
    "os.environ[\"BOOT_BRANCH\"] = \"main\"                                                 # Branch\n",
    "os.environ[\"USE_TEX\"] = \"0\"                                                        # 1 = LaTeX rendering\n",
    "os.environ[\"NOTEBOOK_HEADER_AUTORUN\"] = \"0\"                                        # Avoid double badge\n",
    "\n",
    "IN_COLAB = (\"COLAB_RELEASE_TAG\" in os.environ) or (\"COLAB_GPU\" in os.environ)\n",
    "if IN_COLAB:\n",
    "    repo_dir = pathlib.Path(f\"/content/{os.environ['BOOT_REPO']}\")\n",
    "    # Start fresh every time in Colab so header updates are used\n",
    "    if repo_dir.exists():\n",
    "        print(\"Removing existing repo:\", repo_dir)\n",
    "        subprocess.check_call([\"rm\", \"-rf\", str(repo_dir)])\n",
    "    subprocess.check_call([\n",
    "        \"git\", \"clone\", \"--depth\", \"1\", \"--recurse-submodules\",\n",
    "        \"-b\", os.environ.get(\"BOOT_BRANCH\", \"main\"),\n",
    "        f\"https://github.com/{os.environ['BOOT_ORG']}/{os.environ['BOOT_REPO']}.git\",\n",
    "        str(repo_dir)\n",
    "    ])\n",
    "    sys.path.insert(0, str(repo_dir / \"utils\"))\n",
    "    os.chdir(repo_dir)\n",
    "else:\n",
    "    repo_root = subprocess.check_output([\"git\", \"rev-parse\", \"--show-toplevel\"], text=True).strip()\n",
    "    sys.path.insert(0, repo_root + \"/utils\")\n",
    "\n",
    "import notebook_header\n",
    "print(\"HEADER FILE:\", notebook_header.__file__)\n",
    "importlib.reload(notebook_header)  # Ensure we use the just-updated file\n",
    "notebook_header.main()"
   ]
  },
  {
   "cell_type": "code",
   "execution_count": 2,
   "id": "c03dbd41",
   "metadata": {
    "execution": {
     "iopub.execute_input": "2025-08-09T20:35:05.165264Z",
     "iopub.status.busy": "2025-08-09T20:35:05.165175Z",
     "iopub.status.idle": "2025-08-09T20:35:06.870235Z",
     "shell.execute_reply": "2025-08-09T20:35:06.869890Z",
     "shell.execute_reply.started": "2025-08-09T20:35:05.165254Z"
    }
   },
   "outputs": [
    {
     "name": "stdout",
     "output_type": "stream",
     "text": [
      "usetex? False\n",
      "[[0.6364645  0.74646888 0.11060746]\n",
      " [0.42389108 0.1068622  0.92906107]\n",
      " [0.86290127 0.36096087 0.59870628]\n",
      " [0.07245533 0.9693018  0.40922402]\n",
      " [0.57055474 0.17820462 0.34956902]\n",
      " [0.36090983 0.5385298  0.6600864 ]\n",
      " [0.92199222 0.8081309  0.86098188]\n",
      " [0.13447337 0.41654094 0.17943537]]\n"
     ]
    }
   ],
   "source": [
    "# ---- Sanity check: matplotlib mode ----\n",
    "import matplotlib as mpl\n",
    "print(\"usetex?\", mpl.rcParams.get(\"text.usetex\"))\n",
    "\n",
    "# ---- Sanity check: qmcpy ----\n",
    "import qmcpy as qp\n",
    "print(qp.Sobol(3).gen_samples(8))"
   ]
  },
  {
   "cell_type": "code",
   "execution_count": null,
   "id": "13cd38c2",
   "metadata": {},
   "outputs": [],
   "source": []
  }
 ],
 "metadata": {
  "kernelspec": {
   "display_name": "qmcpy",
   "language": "python",
   "name": "python3"
  },
  "language_info": {
   "codemirror_mode": {
    "name": "ipython",
    "version": 3
   },
   "file_extension": ".py",
   "mimetype": "text/x-python",
   "name": "python",
   "nbconvert_exporter": "python",
   "pygments_lexer": "ipython3",
   "version": "3.9.13"
  }
 },
 "nbformat": 4,
 "nbformat_minor": 5
}
