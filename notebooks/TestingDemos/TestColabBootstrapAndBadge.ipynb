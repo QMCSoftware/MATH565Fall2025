{
 "cells": [
  {
   "cell_type": "markdown",
   "id": "8bf40480-7b46-4d61-b6e5-30d7333f5668",
   "metadata": {},
   "source": [
    "# Test Colab Bootstrap and Badge\n",
    "This demos some code to facilitate running notebooks in Colab rather than a conda environment.\n",
    "\n",
    "Run the next two cells for set up."
   ]
  },
  {
   "cell_type": "code",
   "execution_count": null,
   "id": "b19a6f71",
   "metadata": {},
   "outputs": [
    {
     "ename": "IndentationError",
     "evalue": "unindent does not match any outer indentation level (<tokenize>, line 30)",
     "output_type": "error",
     "traceback": [
      "\u001b[0;36m  File \u001b[0;32m<tokenize>:30\u001b[0;36m\u001b[0m\n\u001b[0;31m    sys.path.insert(0, repo_root + \"/utils\")\u001b[0m\n\u001b[0m    ^\u001b[0m\n\u001b[0;31mIndentationError\u001b[0m\u001b[0;31m:\u001b[0m unindent does not match any outer indentation level\n"
     ]
    }
   ],
   "source": [
    "# --- Clean unified first cell (works in local + Colab) ---\n",
    "import os, sys, subprocess, pathlib, importlib\n",
    "\n",
    "# Notebook org, repo, path\n",
    "os.environ[\"BOOT_ORG\"]  = \"QMCSoftware\"                                            # GitHub org\n",
    "os.environ[\"BOOT_REPO\"] = \"MATH565Fall2025\"                                        # GitHub repo\n",
    "os.environ[\"NB_PATH\"]   = \"notebooks/TestingDemos/TestColabBootstrapAndBadge.ipynb\" # Notebook path\n",
    "os.environ[\"BOOT_BRANCH\"] = \"main\"                                                 # Branch\n",
    "os.environ[\"USE_TEX\"] = \"0\"                                                        # 1 = LaTeX rendering\n",
    "os.environ[\"NOTEBOOK_HEADER_AUTORUN\"] = \"0\"                                        # Avoid double badge\n",
    "\n",
    "IN_COLAB = (\"COLAB_RELEASE_TAG\" in os.environ) or (\"COLAB_GPU\" in os.environ)\n",
    "if IN_COLAB:\n",
    "    repo_dir = pathlib.Path(f\"/content/{os.environ['BOOT_REPO']}\")\n",
    "    # Start fresh every time in Colab so header updates are used\n",
    "    if repo_dir.exists():\n",
    "        print(\"Removing existing repo:\", repo_dir)\n",
    "        subprocess.check_call([\"rm\", \"-rf\", str(repo_dir)])\n",
    "    subprocess.check_call([\n",
    "        \"git\", \"clone\", \"--depth\", \"1\", \"--recurse-submodules\",\n",
    "        \"-b\", os.environ.get(\"BOOT_BRANCH\", \"main\"),\n",
    "        f\"https://github.com/{os.environ['BOOT_ORG']}/{os.environ['BOOT_REPO']}.git\",\n",
    "        str(repo_dir)\n",
    "    ])\n",
    "    sys.path.insert(0, str(repo_dir / \"utils\"))\n",
    "    os.chdir(repo_dir)\n",
    "else:\n",
    "    repo_root = subprocess.check_output([\"git\", \"rev-parse\", \"--show-toplevel\"], text=True).strip()\n",
    "    sys.path.insert(0, repo_root)               # NEW — lets you do from utils import ...\n",
    "    sys.path.insert(0, repo_root + \"/utils\")\n",
    "\n",
    "import notebook_header\n",
    "print(\"HEADER FILE:\", notebook_header.__file__)\n",
    "importlib.reload(notebook_header)  # Ensure we use the just-updated file\n",
    "notebook_header.main()"
   ]
  },
  {
   "cell_type": "code",
   "execution_count": 2,
   "id": "c03dbd41",
   "metadata": {
    "execution": {
     "iopub.execute_input": "2025-08-09T20:35:05.165264Z",
     "iopub.status.busy": "2025-08-09T20:35:05.165175Z",
     "iopub.status.idle": "2025-08-09T20:35:06.870235Z",
     "shell.execute_reply": "2025-08-09T20:35:06.869890Z",
     "shell.execute_reply.started": "2025-08-09T20:35:05.165254Z"
    }
   },
   "outputs": [
    {
     "name": "stdout",
     "output_type": "stream",
     "text": [
      "usetex? False\n"
     ]
    },
    {
     "ename": "NameError",
     "evalue": "name 'qp' is not defined",
     "output_type": "error",
     "traceback": [
      "\u001b[0;31m---------------------------------------------------------------------------\u001b[0m",
      "\u001b[0;31mNameError\u001b[0m                                 Traceback (most recent call last)",
      "Cell \u001b[0;32mIn[2], line 7\u001b[0m\n\u001b[1;32m      5\u001b[0m \u001b[38;5;66;03m# ---- Sanity check: qmcpy ----\u001b[39;00m\n\u001b[1;32m      6\u001b[0m n \u001b[38;5;241m=\u001b[39m \u001b[38;5;241m2\u001b[39m\u001b[38;5;241m*\u001b[39m\u001b[38;5;241m*\u001b[39m\u001b[38;5;241m10\u001b[39m\n\u001b[0;32m----> 7\u001b[0m x \u001b[38;5;241m=\u001b[39m \u001b[43mqp\u001b[49m\u001b[38;5;241m.\u001b[39mSobol(\u001b[38;5;241m3\u001b[39m)\u001b[38;5;241m.\u001b[39mgen_samples(n)\n\u001b[1;32m      8\u001b[0m \u001b[38;5;28mprint\u001b[39m(\u001b[38;5;124m\"\u001b[39m\u001b[38;5;124mGenerated\u001b[39m\u001b[38;5;124m\"\u001b[39m, n, \u001b[38;5;124m\"\u001b[39m\u001b[38;5;124msamples in 3D Sobol sequence:\u001b[39m\u001b[38;5;124m\"\u001b[39m)\n\u001b[1;32m      9\u001b[0m \u001b[38;5;28mprint\u001b[39m(x[:\u001b[38;5;241m5\u001b[39m])  \u001b[38;5;66;03m# Print first 5 samples for brevity\u001b[39;00m\n",
      "\u001b[0;31mNameError\u001b[0m: name 'qp' is not defined"
     ]
    }
   ],
   "source": [
    "# ---- Sanity check: matplotlib mode ----\n",
    "import matplotlib as mpl\n",
    "print(\"usetex?\", mpl.rcParams.get(\"text.usetex\"))\n",
    "\n",
    "# ---- Sanity check: qmcpy ----\n",
    "n = 2**10\n",
    "x = qp.Sobol(3).gen_samples(n)\n",
    "print(\"Generated\", n, \"samples in 3D Sobol sequence:\")\n",
    "print(x[:5])  # Print first 5 samples for brevity\n",
    "avg = np.mean(x, axis=0)\n",
    "print(\"Average of all samples:\", avg)"
   ]
  },
  {
   "cell_type": "code",
   "execution_count": 3,
   "id": "13cd38c2",
   "metadata": {},
   "outputs": [
    {
     "ename": "ImportError",
     "evalue": "cannot import name 'auto_imports' from 'utils' (unknown location)",
     "output_type": "error",
     "traceback": [
      "\u001b[0;31m---------------------------------------------------------------------------\u001b[0m",
      "\u001b[0;31mImportError\u001b[0m                               Traceback (most recent call last)",
      "Cell \u001b[0;32mIn[3], line 2\u001b[0m\n\u001b[1;32m      1\u001b[0m \u001b[38;5;66;03m# Force auto-injection now (and show why qp didn't appear)\u001b[39;00m\n\u001b[0;32m----> 2\u001b[0m \u001b[38;5;28;01mfrom\u001b[39;00m\u001b[38;5;250m \u001b[39m\u001b[38;5;21;01mutils\u001b[39;00m\u001b[38;5;250m \u001b[39m\u001b[38;5;28;01mimport\u001b[39;00m auto_imports\n\u001b[1;32m      3\u001b[0m \u001b[38;5;28;01mimport\u001b[39;00m\u001b[38;5;250m \u001b[39m\u001b[38;5;21;01mimportlib\u001b[39;00m\u001b[38;5;241m,\u001b[39m\u001b[38;5;250m \u001b[39m\u001b[38;5;21;01mimportlib\u001b[39;00m\u001b[38;5;21;01m.\u001b[39;00m\u001b[38;5;21;01mutil\u001b[39;00m\n\u001b[1;32m      5\u001b[0m \u001b[38;5;28mprint\u001b[39m(\u001b[38;5;124m\"\u001b[39m\u001b[38;5;124mauto_imports file:\u001b[39m\u001b[38;5;124m\"\u001b[39m, auto_imports\u001b[38;5;241m.\u001b[39m\u001b[38;5;18m__file__\u001b[39m)\n",
      "\u001b[0;31mImportError\u001b[0m: cannot import name 'auto_imports' from 'utils' (unknown location)"
     ]
    }
   ],
   "source": [
    "# Force auto-injection now (and show why qp didn't appear)\n",
    "from utils import auto_imports\n",
    "import importlib, importlib.util\n",
    "\n",
    "print(\"auto_imports file:\", auto_imports.__file__)\n",
    "importlib.reload(auto_imports)\n",
    "auto_imports.inject_common(globals(), verbose=True)\n",
    "\n",
    "print(\"qmcpy importable:\", importlib.util.find_spec(\"qmcpy\") is not None)\n",
    "print(\"aliases present:\", {k for k in ['np','pd','plt','sp','sy','qp'] if k in globals()})"
   ]
  }
 ],
 "metadata": {
  "kernelspec": {
   "display_name": "qmcpy",
   "language": "python",
   "name": "python3"
  },
  "language_info": {
   "codemirror_mode": {
    "name": "ipython",
    "version": 3
   },
   "file_extension": ".py",
   "mimetype": "text/x-python",
   "name": "python",
   "nbconvert_exporter": "python",
   "pygments_lexer": "ipython3",
   "version": "3.9.13"
  }
 },
 "nbformat": 4,
 "nbformat_minor": 5
}
