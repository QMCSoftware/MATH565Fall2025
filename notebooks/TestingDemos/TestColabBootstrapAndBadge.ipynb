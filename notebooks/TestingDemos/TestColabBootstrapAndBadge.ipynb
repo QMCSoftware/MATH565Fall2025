{
 "cells": [
  {
   "cell_type": "markdown",
   "id": "8bf40480-7b46-4d61-b6e5-30d7333f5668",
   "metadata": {},
   "source": [
    "# Test Colab Bootstrap and Badge\n",
    "This demos some code to facilitate running notebooks in Colab rather than a conda environment.\n",
    "\n",
    "Run the next two cells for set up."
   ]
  },
  {
   "cell_type": "code",
   "execution_count": null,
   "id": "b19a6f71",
   "metadata": {},
   "outputs": [
    {
     "data": {
      "text/html": [
       "If you are not running this notebook in the <code>conda qmcpy</code> environment, <a target=\"_blank\" href=\"https://colab.research.google.com/github/QMCSoftware/MATH565Fall2025/blob/bootstrap_colab/notebooks/TestingDemos/TestColabBootstrapAndBadge.ipynb\"><img src=\"https://colab.research.google.com/assets/colab-badge.svg\" alt=\"Open In Colab\"/></a>, otherwise continue to the next cell for setup."
      ],
      "text/plain": [
       "<IPython.core.display.HTML object>"
      ]
     },
     "metadata": {},
     "output_type": "display_data"
    }
   ],
   "source": [
    "# Compact unified first cell (local + Colab)\n",
    "import os, sys, subprocess, pathlib, importlib\n",
    "\n",
    "# Notebook org, repo, path\n",
    "os.environ[\"BOOT_ORG\"]  = \"QMCSoftware\"                                            #location of this organization\n",
    "os.environ[\"BOOT_REPO\"] = \"MATH565Fall2025\"                                        #location of this repository\n",
    "os.environ[\"NB_PATH\"] = \"notebooks/TestingDemos/TestColabBootstrapAndBadge.ipynb\"  #location of this notebook\n",
    "os.environ[\"BOOT_BRANCH\"] = \"main\"                                                 #branch to use \n",
    "os.environ[\"USE_TEX\"] = \"0\"                                                        #set to 1 to use LaTeX for rendering\n",
    "os.environ[\"NOTEBOOK_HEADER_AUTORUN\"] = \"0\"                                        #avoid double badge\n",
    "\n",
    "IN_COLAB = (\"COLAB_RELEASE_TAG\" in os.environ) or (\"COLAB_GPU\" in os.environ)\n",
    "if IN_COLAB:\n",
    "    repo_dir = pathlib.Path(f\"/content/{os.environ['BOOT_REPO']}\")\n",
    "    if not repo_dir.exists():\n",
    "        subprocess.check_call([\n",
    "            \"git\",\"clone\",\"--depth\",\"1\",\"--recurse-submodules\",\n",
    "            \"-b\", os.environ.get(\"BOOT_BRANCH\",\"bootstrap_colab\"),\n",
    "            f\"https://github.com/{os.environ['BOOT_ORG']}/{os.environ['BOOT_REPO']}.git\",\n",
    "            str(repo_dir)\n",
    "        ])\n",
    "    sys.path.insert(0, str(repo_dir / \"utils\"))\n",
    "    try: os.chdir(repo_dir)\n",
    "    except Exception: pass\n",
    "else:\n",
    "    repo_root = subprocess.check_output([\"git\",\"rev-parse\",\"--show-toplevel\"], text=True).strip()\n",
    "    sys.path.insert(0, repo_root + \"/utils\")\n",
    "\n",
    "import notebook_header\n",
    "importlib.reload(notebook_header)      # ensure you pick up your edited file\n",
    "notebook_header.main()                 # quiet by default; shows a single inline badge"
   ]
  },
  {
   "cell_type": "code",
   "execution_count": 2,
   "id": "be7d5252",
   "metadata": {
    "execution": {
     "iopub.execute_input": "2025-08-09T20:35:05.163005Z",
     "iopub.status.busy": "2025-08-09T20:35:05.162818Z",
     "iopub.status.idle": "2025-08-09T20:35:05.164867Z",
     "shell.execute_reply": "2025-08-09T20:35:05.164617Z",
     "shell.execute_reply.started": "2025-08-09T20:35:05.162988Z"
    }
   },
   "outputs": [],
   "source": [
    "# Optional: turn LaTeX on before running the header in Colab\n",
    "# %env USE_TEX=1\n",
    "# (Re-run the first cell afterwards to apply it)"
   ]
  },
  {
   "cell_type": "code",
   "execution_count": 3,
   "id": "c03dbd41",
   "metadata": {
    "execution": {
     "iopub.execute_input": "2025-08-09T20:35:05.165264Z",
     "iopub.status.busy": "2025-08-09T20:35:05.165175Z",
     "iopub.status.idle": "2025-08-09T20:35:06.870235Z",
     "shell.execute_reply": "2025-08-09T20:35:06.869890Z",
     "shell.execute_reply.started": "2025-08-09T20:35:05.165254Z"
    }
   },
   "outputs": [
    {
     "name": "stdout",
     "output_type": "stream",
     "text": [
      "usetex? False\n",
      "[[0.49333971 0.87845067 0.50878927]\n",
      " [0.66709587 0.37711412 0.29986699]\n",
      " [0.00422586 0.10875703 0.07008767]\n",
      " [0.83437701 0.60838566 0.87288393]\n",
      " [0.29322662 0.34457107 0.92943901]\n",
      " [0.62349981 0.8451752  0.13836105]\n",
      " [0.20433942 0.63672519 0.49363616]\n",
      " [0.87797354 0.13831724 0.69084014]]\n"
     ]
    }
   ],
   "source": [
    "# ---- Sanity check: matplotlib mode ----\n",
    "import matplotlib as mpl\n",
    "print(\"usetex?\", mpl.rcParams.get(\"text.usetex\"))\n",
    "\n",
    "# ---- Sanity check: qmcpy ----\n",
    "import qmcpy as qp\n",
    "print(qp.Sobol(3).gen_samples(8))"
   ]
  },
  {
   "cell_type": "code",
   "execution_count": null,
   "id": "13cd38c2",
   "metadata": {},
   "outputs": [],
   "source": []
  }
 ],
 "metadata": {
  "kernelspec": {
   "display_name": "qmcpy",
   "language": "python",
   "name": "python3"
  },
  "language_info": {
   "codemirror_mode": {
    "name": "ipython",
    "version": 3
   },
   "file_extension": ".py",
   "mimetype": "text/x-python",
   "name": "python",
   "nbconvert_exporter": "python",
   "pygments_lexer": "ipython3",
   "version": "3.9.13"
  }
 },
 "nbformat": 4,
 "nbformat_minor": 5
}
