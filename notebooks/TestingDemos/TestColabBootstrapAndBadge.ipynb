{
 "cells": [
  {
   "cell_type": "markdown",
   "id": "8bf40480-7b46-4d61-b6e5-30d7333f5668",
   "metadata": {},
   "source": [
    "# Test Colab Bootstrap and Badge\n",
    "This demos some code to facilitate running notebooks in Colab rather than a conda environment.\n",
    "\n",
    "Run the next two cells for set up."
   ]
  },
  {
   "cell_type": "markdown",
   "id": "a3c6d67a",
   "metadata": {},
   "source": [
    "$\n",
    "\\newcommand{\\vh}{\\boldsymbol{h}}\n",
    "\\newcommand{\\vt}{\\boldsymbol{t}}\n",
    "\\newcommand{\\vx}{\\boldsymbol{x}}\n",
    "\\newcommand{\\vX}{\\boldsymbol{X}}\n",
    "\\newcommand{\\cf}{\\mathcal{F}}\n",
    "\\newcommand{\\cu}{\\mathcal{U}}\n",
    "\\newcommand{\\dif}{\\mathrm{d}}\n",
    "\\newcommand{\\Ex}{\\mathbb{E}}\n",
    "\\DeclareMathOperator{\\disc}{disc}\n",
    "\\newcommand{\\norm}[2][{}]{{\\left \\lVert #2 \\right \\rVert}_{#1}}\n",
    "$"
   ]
  },
  {
   "cell_type": "code",
   "execution_count": 1,
   "id": "b19a6f71",
   "metadata": {
    "execution": {
     "iopub.execute_input": "2025-08-11T05:53:52.826187Z",
     "iopub.status.busy": "2025-08-11T05:53:52.825673Z",
     "iopub.status.idle": "2025-08-11T05:53:54.889727Z",
     "shell.execute_reply": "2025-08-11T05:53:54.889291Z",
     "shell.execute_reply.started": "2025-08-11T05:53:52.826151Z"
    }
   },
   "outputs": [
    {
     "data": {
      "text/html": [
       "If not running in <code>conda qmcpy</code>, open in <a target=\"_blank\" href=\"https://colab.research.google.com/github/QMCSoftware/MATH565Fall2025/blob/main/notebooks/TestingDemos/TestColabBootstrapAndBadge.ipynb\"><img src=\"https://colab.research.google.com/assets/colab-badge.svg\" alt=\"Open In Colab\"/></a>."
      ],
      "text/plain": [
       "<IPython.core.display.HTML object>"
      ]
     },
     "metadata": {},
     "output_type": "display_data"
    }
   ],
   "source": [
    "# --- Unified bootstrap cell for local + Colab ---\n",
    "import os, pathlib, subprocess, sys, importlib\n",
    "\n",
    "# --- Required metadata for the header ---\n",
    "os.environ[\"BOOT_ORG\"]   = \"QMCSoftware\"   # GitHub org\n",
    "os.environ[\"BOOT_REPO\"]  = \"MATH565Fall2025\"  # This repo name\n",
    "os.environ[\"NB_PATH\"]    = \"notebooks/TestingDemos/TestColabBootstrapAndBadge.ipynb\"\n",
    "os.environ[\"BOOT_BRANCH\"] = \"main\"         # Target branch\n",
    "os.environ[\"NOTEBOOK_HEADER_AUTORUN\"] = \"0\"  # Avoid double badge\n",
    "os.environ[\"AUTO_PLOT_PREFS\"] = \"1\"      #apply plotting preferences\n",
    "\n",
    "# --- Colab: clone repo if missing ---\n",
    "if \"COLAB_RELEASE_TAG\" in os.environ or \"COLAB_GPU\" in os.environ:\n",
    "    repo_dir = pathlib.Path(f\"/content/{os.environ['BOOT_REPO']}\")\n",
    "    if not repo_dir.exists():\n",
    "        subprocess.check_call([\n",
    "            \"git\",\"clone\",\"--depth\",\"1\",\"--recurse-submodules\",\n",
    "            \"-b\", os.environ[\"BOOT_BRANCH\"],\n",
    "            f\"https://github.com/{os.environ['BOOT_ORG']}/{os.environ['BOOT_REPO']}.git\",\n",
    "            str(repo_dir)\n",
    "        ])\n",
    "    sys.path.insert(0, str(repo_dir / \"utils\"))\n",
    "    try:\n",
    "        os.chdir(repo_dir)\n",
    "    except Exception:\n",
    "        pass\n",
    "else:\n",
    "    # Local: add utils to path\n",
    "    repo_root = subprocess.check_output([\"git\",\"rev-parse\",\"--show-toplevel\"], text=True).strip()\n",
    "    sys.path.insert(0, repo_root + \"/utils\")\n",
    "\n",
    "# --- Load notebook header ---\n",
    "import notebook_header\n",
    "importlib.reload(notebook_header)\n",
    "notebook_header.main()"
   ]
  },
  {
   "cell_type": "code",
   "execution_count": 2,
   "id": "58a6f1a4",
   "metadata": {
    "execution": {
     "iopub.execute_input": "2025-08-11T05:53:54.890713Z",
     "iopub.status.busy": "2025-08-11T05:53:54.890565Z",
     "iopub.status.idle": "2025-08-11T05:53:54.913877Z",
     "shell.execute_reply": "2025-08-11T05:53:54.913375Z",
     "shell.execute_reply.started": "2025-08-11T05:53:54.890702Z"
    }
   },
   "outputs": [
    {
     "name": "stdout",
     "output_type": "stream",
     "text": [
      "HEADER FILE: /Users/fredhickernell/SoftwareRepositories/MATH565Fall2025/utils/notebook_header.py\n",
      "Repo root: /Users/fredhickernell/SoftwareRepositories/MATH565Fall2025\n",
      "NB_PATH: notebooks/TestingDemos/TestColabBootstrapAndBadge.ipynb\n",
      "Exists on disk?: True \n",
      "\n",
      "Top cell type: markdown\n",
      "Top cell starts with:\n",
      " # Test Colab Bootstrap and Badge This demos some code to facilitate running notebooks in Colab rather than a conda [...]\n"
     ]
    }
   ],
   "source": [
    "import notebook_header, json, pathlib, subprocess, os, textwrap\n",
    "\n",
    "print(\"HEADER FILE:\", notebook_header.__file__)\n",
    "repo_root = subprocess.check_output([\"git\",\"rev-parse\",\"--show-toplevel\"], text=True).strip()\n",
    "nb_path = os.environ.get(\"NB_PATH\") or \"UNKNOWN\"\n",
    "nb_abs = pathlib.Path(repo_root, nb_path).resolve()\n",
    "print(\"Repo root:\", repo_root)\n",
    "print(\"NB_PATH:\", nb_path)\n",
    "print(\"Exists on disk?:\", nb_abs.exists(), \"\\n\")\n",
    "\n",
    "if nb_abs.exists():\n",
    "    nb = json.loads(pathlib.Path(nb_abs).read_text(encoding=\"utf-8\"))\n",
    "    if nb.get(\"cells\"):\n",
    "        first = nb[\"cells\"][0]\n",
    "        print(\"Top cell type:\", first.get(\"cell_type\"))\n",
    "        print(\"Top cell starts with:\\n\", textwrap.shorten(\"\".join(first.get(\"source\", [])), width=120))"
   ]
  },
  {
   "cell_type": "markdown",
   "id": "7de0699c",
   "metadata": {},
   "source": [
    "$\\vx$"
   ]
  },
  {
   "cell_type": "markdown",
   "id": "81680615",
   "metadata": {},
   "source": [
    "$\\vx$"
   ]
  },
  {
   "cell_type": "code",
   "execution_count": 3,
   "id": "c03dbd41",
   "metadata": {
    "execution": {
     "iopub.execute_input": "2025-08-11T05:11:45.761468Z",
     "iopub.status.busy": "2025-08-11T05:11:45.761277Z",
     "iopub.status.idle": "2025-08-11T05:11:45.766161Z",
     "shell.execute_reply": "2025-08-11T05:11:45.765896Z",
     "shell.execute_reply.started": "2025-08-11T05:11:45.761455Z"
    }
   },
   "outputs": [
    {
     "name": "stdout",
     "output_type": "stream",
     "text": [
      "usetex? False\n",
      "Generated 1024 samples in 3D Sobol sequence:\n",
      "[[0.55796754 0.28991779 0.45568033]\n",
      " [0.24642404 0.76871489 0.75270257]\n",
      " [0.90220584 0.74760034 0.5420099 ]\n",
      " [0.3406624  0.19361585 0.24547219]\n",
      " [0.72871759 0.91554879 0.02844213]]\n",
      "Variance of all samples: [0.08333333 0.08333333 0.08333333]\n"
     ]
    }
   ],
   "source": [
    "# ---- Sanity check: matplotlib mode ----\n",
    "print(\"usetex?\", plt.rcParams.get(\"text.usetex\"))\n",
    "\n",
    "# ---- Sanity check: qmcpy ----\n",
    "n = 2**10\n",
    "x = qp.Sobol(3).gen_samples(n)\n",
    "print(\"Generated\", n, \"samples in 3D Sobol sequence:\")\n",
    "print(x[:5])  # Print first 5 samples for brevity\n",
    "variance = np.var(x, axis=0)\n",
    "print(\"Variance of all samples:\", variance)"
   ]
  },
  {
   "cell_type": "code",
   "execution_count": 10,
   "id": "13cd38c2",
   "metadata": {
    "execution": {
     "iopub.execute_input": "2025-08-11T05:11:45.766710Z",
     "iopub.status.busy": "2025-08-11T05:11:45.766568Z",
     "iopub.status.idle": "2025-08-11T05:11:46.990160Z",
     "shell.execute_reply": "2025-08-11T05:11:46.989848Z",
     "shell.execute_reply.started": "2025-08-11T05:11:45.766700Z"
    }
   },
   "outputs": [
    {
     "name": "stdout",
     "output_type": "stream",
     "text": [
      "Figure size: [6.0, 4.0]\n",
      "Figure DPI: 120.0\n",
      "Font size: 12.0\n",
      "Grid enabled: True\n",
      "Line width: 2.0\n",
      "Math fontset: cm\n"
     ]
    },
    {
     "ename": "ValueError",
     "evalue": "\n\\vx,\\, \\norm{x},\\, \\Ex[\\vx]\n^\nUnknown symbol: \\vx, found '\\'  (at char 0), (line:1, col:1)",
     "output_type": "error",
     "traceback": [
      "\u001b[0;31m---------------------------------------------------------------------------\u001b[0m",
      "\u001b[0;31mParseFatalException\u001b[0m                       Traceback (most recent call last)",
      "File \u001b[0;32m~/miniconda3/envs/qmcpy/lib/python3.9/site-packages/matplotlib/_mathtext.py:2237\u001b[0m, in \u001b[0;36mParser.parse\u001b[0;34m(self, s, fonts_object, fontsize, dpi)\u001b[0m\n\u001b[1;32m   2236\u001b[0m \u001b[38;5;28;01mtry\u001b[39;00m:\n\u001b[0;32m-> 2237\u001b[0m     result \u001b[38;5;241m=\u001b[39m \u001b[38;5;28;43mself\u001b[39;49m\u001b[38;5;241;43m.\u001b[39;49m\u001b[43m_expression\u001b[49m\u001b[38;5;241;43m.\u001b[39;49m\u001b[43mparseString\u001b[49m\u001b[43m(\u001b[49m\u001b[43ms\u001b[49m\u001b[43m)\u001b[49m\n\u001b[1;32m   2238\u001b[0m \u001b[38;5;28;01mexcept\u001b[39;00m ParseBaseException \u001b[38;5;28;01mas\u001b[39;00m err:\n",
      "File \u001b[0;32m~/miniconda3/envs/qmcpy/lib/python3.9/site-packages/pyparsing/util.py:377\u001b[0m, in \u001b[0;36mreplaced_by_pep8.<locals>._inner\u001b[0;34m(self, *args, **kwargs)\u001b[0m\n\u001b[1;32m    372\u001b[0m \u001b[38;5;129m@wraps\u001b[39m(fn)\n\u001b[1;32m    373\u001b[0m \u001b[38;5;28;01mdef\u001b[39;00m\u001b[38;5;250m \u001b[39m\u001b[38;5;21m_inner\u001b[39m(\u001b[38;5;28mself\u001b[39m, \u001b[38;5;241m*\u001b[39margs, \u001b[38;5;241m*\u001b[39m\u001b[38;5;241m*\u001b[39mkwargs):\n\u001b[1;32m    374\u001b[0m     \u001b[38;5;66;03m# warnings.warn(\u001b[39;00m\n\u001b[1;32m    375\u001b[0m     \u001b[38;5;66;03m#     f\"Deprecated - use {fn.__name__}\", DeprecationWarning, stacklevel=2\u001b[39;00m\n\u001b[1;32m    376\u001b[0m     \u001b[38;5;66;03m# )\u001b[39;00m\n\u001b[0;32m--> 377\u001b[0m     \u001b[38;5;28;01mreturn\u001b[39;00m \u001b[43mfn\u001b[49m\u001b[43m(\u001b[49m\u001b[38;5;28;43mself\u001b[39;49m\u001b[43m,\u001b[49m\u001b[43m \u001b[49m\u001b[38;5;241;43m*\u001b[39;49m\u001b[43margs\u001b[49m\u001b[43m,\u001b[49m\u001b[43m \u001b[49m\u001b[38;5;241;43m*\u001b[39;49m\u001b[38;5;241;43m*\u001b[39;49m\u001b[43mkwargs\u001b[49m\u001b[43m)\u001b[49m\n",
      "File \u001b[0;32m~/miniconda3/envs/qmcpy/lib/python3.9/site-packages/pyparsing/core.py:1212\u001b[0m, in \u001b[0;36mParserElement.parse_string\u001b[0;34m(self, instring, parse_all, parseAll)\u001b[0m\n\u001b[1;32m   1211\u001b[0m     \u001b[38;5;66;03m# catch and re-raise exception from here, clearing out pyparsing internal stack trace\u001b[39;00m\n\u001b[0;32m-> 1212\u001b[0m     \u001b[38;5;28;01mraise\u001b[39;00m exc\u001b[38;5;241m.\u001b[39mwith_traceback(\u001b[38;5;28;01mNone\u001b[39;00m)\n\u001b[1;32m   1213\u001b[0m \u001b[38;5;28;01melse\u001b[39;00m:\n",
      "\u001b[0;31mParseFatalException\u001b[0m: Unknown symbol: \\vx, found '\\'  (at char 0), (line:1, col:1)",
      "\nThe above exception was the direct cause of the following exception:\n",
      "\u001b[0;31mValueError\u001b[0m                                Traceback (most recent call last)",
      "File \u001b[0;32m~/miniconda3/envs/qmcpy/lib/python3.9/site-packages/IPython/core/formatters.py:340\u001b[0m, in \u001b[0;36mBaseFormatter.__call__\u001b[0;34m(self, obj)\u001b[0m\n\u001b[1;32m    338\u001b[0m     \u001b[38;5;28;01mpass\u001b[39;00m\n\u001b[1;32m    339\u001b[0m \u001b[38;5;28;01melse\u001b[39;00m:\n\u001b[0;32m--> 340\u001b[0m     \u001b[38;5;28;01mreturn\u001b[39;00m \u001b[43mprinter\u001b[49m\u001b[43m(\u001b[49m\u001b[43mobj\u001b[49m\u001b[43m)\u001b[49m\n\u001b[1;32m    341\u001b[0m \u001b[38;5;66;03m# Finally look for special method names\u001b[39;00m\n\u001b[1;32m    342\u001b[0m method \u001b[38;5;241m=\u001b[39m get_real_method(obj, \u001b[38;5;28mself\u001b[39m\u001b[38;5;241m.\u001b[39mprint_method)\n",
      "File \u001b[0;32m~/miniconda3/envs/qmcpy/lib/python3.9/site-packages/IPython/core/pylabtools.py:152\u001b[0m, in \u001b[0;36mprint_figure\u001b[0;34m(fig, fmt, bbox_inches, base64, **kwargs)\u001b[0m\n\u001b[1;32m    149\u001b[0m     \u001b[38;5;28;01mfrom\u001b[39;00m\u001b[38;5;250m \u001b[39m\u001b[38;5;21;01mmatplotlib\u001b[39;00m\u001b[38;5;21;01m.\u001b[39;00m\u001b[38;5;21;01mbackend_bases\u001b[39;00m\u001b[38;5;250m \u001b[39m\u001b[38;5;28;01mimport\u001b[39;00m FigureCanvasBase\n\u001b[1;32m    150\u001b[0m     FigureCanvasBase(fig)\n\u001b[0;32m--> 152\u001b[0m \u001b[43mfig\u001b[49m\u001b[38;5;241;43m.\u001b[39;49m\u001b[43mcanvas\u001b[49m\u001b[38;5;241;43m.\u001b[39;49m\u001b[43mprint_figure\u001b[49m\u001b[43m(\u001b[49m\u001b[43mbytes_io\u001b[49m\u001b[43m,\u001b[49m\u001b[43m \u001b[49m\u001b[38;5;241;43m*\u001b[39;49m\u001b[38;5;241;43m*\u001b[39;49m\u001b[43mkw\u001b[49m\u001b[43m)\u001b[49m\n\u001b[1;32m    153\u001b[0m data \u001b[38;5;241m=\u001b[39m bytes_io\u001b[38;5;241m.\u001b[39mgetvalue()\n\u001b[1;32m    154\u001b[0m \u001b[38;5;28;01mif\u001b[39;00m fmt \u001b[38;5;241m==\u001b[39m \u001b[38;5;124m'\u001b[39m\u001b[38;5;124msvg\u001b[39m\u001b[38;5;124m'\u001b[39m:\n",
      "File \u001b[0;32m~/miniconda3/envs/qmcpy/lib/python3.9/site-packages/matplotlib/backend_bases.py:2295\u001b[0m, in \u001b[0;36mFigureCanvasBase.print_figure\u001b[0;34m(self, filename, dpi, facecolor, edgecolor, orientation, format, bbox_inches, pad_inches, bbox_extra_artists, backend, **kwargs)\u001b[0m\n\u001b[1;32m   2289\u001b[0m     renderer \u001b[38;5;241m=\u001b[39m _get_renderer(\n\u001b[1;32m   2290\u001b[0m         \u001b[38;5;28mself\u001b[39m\u001b[38;5;241m.\u001b[39mfigure,\n\u001b[1;32m   2291\u001b[0m         functools\u001b[38;5;241m.\u001b[39mpartial(\n\u001b[1;32m   2292\u001b[0m             print_method, orientation\u001b[38;5;241m=\u001b[39morientation)\n\u001b[1;32m   2293\u001b[0m     )\n\u001b[1;32m   2294\u001b[0m     \u001b[38;5;28;01mwith\u001b[39;00m \u001b[38;5;28mgetattr\u001b[39m(renderer, \u001b[38;5;124m\"\u001b[39m\u001b[38;5;124m_draw_disabled\u001b[39m\u001b[38;5;124m\"\u001b[39m, nullcontext)():\n\u001b[0;32m-> 2295\u001b[0m         \u001b[38;5;28;43mself\u001b[39;49m\u001b[38;5;241;43m.\u001b[39;49m\u001b[43mfigure\u001b[49m\u001b[38;5;241;43m.\u001b[39;49m\u001b[43mdraw\u001b[49m\u001b[43m(\u001b[49m\u001b[43mrenderer\u001b[49m\u001b[43m)\u001b[49m\n\u001b[1;32m   2297\u001b[0m \u001b[38;5;28;01mif\u001b[39;00m bbox_inches:\n\u001b[1;32m   2298\u001b[0m     \u001b[38;5;28;01mif\u001b[39;00m bbox_inches \u001b[38;5;241m==\u001b[39m \u001b[38;5;124m\"\u001b[39m\u001b[38;5;124mtight\u001b[39m\u001b[38;5;124m\"\u001b[39m:\n",
      "File \u001b[0;32m~/miniconda3/envs/qmcpy/lib/python3.9/site-packages/matplotlib/artist.py:73\u001b[0m, in \u001b[0;36m_finalize_rasterization.<locals>.draw_wrapper\u001b[0;34m(artist, renderer, *args, **kwargs)\u001b[0m\n\u001b[1;32m     71\u001b[0m \u001b[38;5;129m@wraps\u001b[39m(draw)\n\u001b[1;32m     72\u001b[0m \u001b[38;5;28;01mdef\u001b[39;00m\u001b[38;5;250m \u001b[39m\u001b[38;5;21mdraw_wrapper\u001b[39m(artist, renderer, \u001b[38;5;241m*\u001b[39margs, \u001b[38;5;241m*\u001b[39m\u001b[38;5;241m*\u001b[39mkwargs):\n\u001b[0;32m---> 73\u001b[0m     result \u001b[38;5;241m=\u001b[39m \u001b[43mdraw\u001b[49m\u001b[43m(\u001b[49m\u001b[43martist\u001b[49m\u001b[43m,\u001b[49m\u001b[43m \u001b[49m\u001b[43mrenderer\u001b[49m\u001b[43m,\u001b[49m\u001b[43m \u001b[49m\u001b[38;5;241;43m*\u001b[39;49m\u001b[43margs\u001b[49m\u001b[43m,\u001b[49m\u001b[43m \u001b[49m\u001b[38;5;241;43m*\u001b[39;49m\u001b[38;5;241;43m*\u001b[39;49m\u001b[43mkwargs\u001b[49m\u001b[43m)\u001b[49m\n\u001b[1;32m     74\u001b[0m     \u001b[38;5;28;01mif\u001b[39;00m renderer\u001b[38;5;241m.\u001b[39m_rasterizing:\n\u001b[1;32m     75\u001b[0m         renderer\u001b[38;5;241m.\u001b[39mstop_rasterizing()\n",
      "File \u001b[0;32m~/miniconda3/envs/qmcpy/lib/python3.9/site-packages/matplotlib/artist.py:50\u001b[0m, in \u001b[0;36mallow_rasterization.<locals>.draw_wrapper\u001b[0;34m(artist, renderer)\u001b[0m\n\u001b[1;32m     47\u001b[0m     \u001b[38;5;28;01mif\u001b[39;00m artist\u001b[38;5;241m.\u001b[39mget_agg_filter() \u001b[38;5;129;01mis\u001b[39;00m \u001b[38;5;129;01mnot\u001b[39;00m \u001b[38;5;28;01mNone\u001b[39;00m:\n\u001b[1;32m     48\u001b[0m         renderer\u001b[38;5;241m.\u001b[39mstart_filter()\n\u001b[0;32m---> 50\u001b[0m     \u001b[38;5;28;01mreturn\u001b[39;00m \u001b[43mdraw\u001b[49m\u001b[43m(\u001b[49m\u001b[43martist\u001b[49m\u001b[43m,\u001b[49m\u001b[43m \u001b[49m\u001b[43mrenderer\u001b[49m\u001b[43m)\u001b[49m\n\u001b[1;32m     51\u001b[0m \u001b[38;5;28;01mfinally\u001b[39;00m:\n\u001b[1;32m     52\u001b[0m     \u001b[38;5;28;01mif\u001b[39;00m artist\u001b[38;5;241m.\u001b[39mget_agg_filter() \u001b[38;5;129;01mis\u001b[39;00m \u001b[38;5;129;01mnot\u001b[39;00m \u001b[38;5;28;01mNone\u001b[39;00m:\n",
      "File \u001b[0;32m~/miniconda3/envs/qmcpy/lib/python3.9/site-packages/matplotlib/figure.py:2837\u001b[0m, in \u001b[0;36mFigure.draw\u001b[0;34m(self, renderer)\u001b[0m\n\u001b[1;32m   2834\u001b[0m         \u001b[38;5;66;03m# ValueError can occur when resizing a window.\u001b[39;00m\n\u001b[1;32m   2836\u001b[0m \u001b[38;5;28mself\u001b[39m\u001b[38;5;241m.\u001b[39mpatch\u001b[38;5;241m.\u001b[39mdraw(renderer)\n\u001b[0;32m-> 2837\u001b[0m \u001b[43mmimage\u001b[49m\u001b[38;5;241;43m.\u001b[39;49m\u001b[43m_draw_list_compositing_images\u001b[49m\u001b[43m(\u001b[49m\n\u001b[1;32m   2838\u001b[0m \u001b[43m    \u001b[49m\u001b[43mrenderer\u001b[49m\u001b[43m,\u001b[49m\u001b[43m \u001b[49m\u001b[38;5;28;43mself\u001b[39;49m\u001b[43m,\u001b[49m\u001b[43m \u001b[49m\u001b[43martists\u001b[49m\u001b[43m,\u001b[49m\u001b[43m \u001b[49m\u001b[38;5;28;43mself\u001b[39;49m\u001b[38;5;241;43m.\u001b[39;49m\u001b[43msuppressComposite\u001b[49m\u001b[43m)\u001b[49m\n\u001b[1;32m   2840\u001b[0m \u001b[38;5;28;01mfor\u001b[39;00m sfig \u001b[38;5;129;01min\u001b[39;00m \u001b[38;5;28mself\u001b[39m\u001b[38;5;241m.\u001b[39msubfigs:\n\u001b[1;32m   2841\u001b[0m     sfig\u001b[38;5;241m.\u001b[39mdraw(renderer)\n",
      "File \u001b[0;32m~/miniconda3/envs/qmcpy/lib/python3.9/site-packages/matplotlib/image.py:132\u001b[0m, in \u001b[0;36m_draw_list_compositing_images\u001b[0;34m(renderer, parent, artists, suppress_composite)\u001b[0m\n\u001b[1;32m    130\u001b[0m \u001b[38;5;28;01mif\u001b[39;00m not_composite \u001b[38;5;129;01mor\u001b[39;00m \u001b[38;5;129;01mnot\u001b[39;00m has_images:\n\u001b[1;32m    131\u001b[0m     \u001b[38;5;28;01mfor\u001b[39;00m a \u001b[38;5;129;01min\u001b[39;00m artists:\n\u001b[0;32m--> 132\u001b[0m         \u001b[43ma\u001b[49m\u001b[38;5;241;43m.\u001b[39;49m\u001b[43mdraw\u001b[49m\u001b[43m(\u001b[49m\u001b[43mrenderer\u001b[49m\u001b[43m)\u001b[49m\n\u001b[1;32m    133\u001b[0m \u001b[38;5;28;01melse\u001b[39;00m:\n\u001b[1;32m    134\u001b[0m     \u001b[38;5;66;03m# Composite any adjacent images together\u001b[39;00m\n\u001b[1;32m    135\u001b[0m     image_group \u001b[38;5;241m=\u001b[39m []\n",
      "File \u001b[0;32m~/miniconda3/envs/qmcpy/lib/python3.9/site-packages/matplotlib/artist.py:50\u001b[0m, in \u001b[0;36mallow_rasterization.<locals>.draw_wrapper\u001b[0;34m(artist, renderer)\u001b[0m\n\u001b[1;32m     47\u001b[0m     \u001b[38;5;28;01mif\u001b[39;00m artist\u001b[38;5;241m.\u001b[39mget_agg_filter() \u001b[38;5;129;01mis\u001b[39;00m \u001b[38;5;129;01mnot\u001b[39;00m \u001b[38;5;28;01mNone\u001b[39;00m:\n\u001b[1;32m     48\u001b[0m         renderer\u001b[38;5;241m.\u001b[39mstart_filter()\n\u001b[0;32m---> 50\u001b[0m     \u001b[38;5;28;01mreturn\u001b[39;00m \u001b[43mdraw\u001b[49m\u001b[43m(\u001b[49m\u001b[43martist\u001b[49m\u001b[43m,\u001b[49m\u001b[43m \u001b[49m\u001b[43mrenderer\u001b[49m\u001b[43m)\u001b[49m\n\u001b[1;32m     51\u001b[0m \u001b[38;5;28;01mfinally\u001b[39;00m:\n\u001b[1;32m     52\u001b[0m     \u001b[38;5;28;01mif\u001b[39;00m artist\u001b[38;5;241m.\u001b[39mget_agg_filter() \u001b[38;5;129;01mis\u001b[39;00m \u001b[38;5;129;01mnot\u001b[39;00m \u001b[38;5;28;01mNone\u001b[39;00m:\n",
      "File \u001b[0;32m~/miniconda3/envs/qmcpy/lib/python3.9/site-packages/matplotlib/axes/_base.py:3091\u001b[0m, in \u001b[0;36m_AxesBase.draw\u001b[0;34m(self, renderer)\u001b[0m\n\u001b[1;32m   3088\u001b[0m         a\u001b[38;5;241m.\u001b[39mdraw(renderer)\n\u001b[1;32m   3089\u001b[0m     renderer\u001b[38;5;241m.\u001b[39mstop_rasterizing()\n\u001b[0;32m-> 3091\u001b[0m \u001b[43mmimage\u001b[49m\u001b[38;5;241;43m.\u001b[39;49m\u001b[43m_draw_list_compositing_images\u001b[49m\u001b[43m(\u001b[49m\n\u001b[1;32m   3092\u001b[0m \u001b[43m    \u001b[49m\u001b[43mrenderer\u001b[49m\u001b[43m,\u001b[49m\u001b[43m \u001b[49m\u001b[38;5;28;43mself\u001b[39;49m\u001b[43m,\u001b[49m\u001b[43m \u001b[49m\u001b[43martists\u001b[49m\u001b[43m,\u001b[49m\u001b[43m \u001b[49m\u001b[38;5;28;43mself\u001b[39;49m\u001b[38;5;241;43m.\u001b[39;49m\u001b[43mfigure\u001b[49m\u001b[38;5;241;43m.\u001b[39;49m\u001b[43msuppressComposite\u001b[49m\u001b[43m)\u001b[49m\n\u001b[1;32m   3094\u001b[0m renderer\u001b[38;5;241m.\u001b[39mclose_group(\u001b[38;5;124m'\u001b[39m\u001b[38;5;124maxes\u001b[39m\u001b[38;5;124m'\u001b[39m)\n\u001b[1;32m   3095\u001b[0m \u001b[38;5;28mself\u001b[39m\u001b[38;5;241m.\u001b[39mstale \u001b[38;5;241m=\u001b[39m \u001b[38;5;28;01mFalse\u001b[39;00m\n",
      "File \u001b[0;32m~/miniconda3/envs/qmcpy/lib/python3.9/site-packages/matplotlib/image.py:132\u001b[0m, in \u001b[0;36m_draw_list_compositing_images\u001b[0;34m(renderer, parent, artists, suppress_composite)\u001b[0m\n\u001b[1;32m    130\u001b[0m \u001b[38;5;28;01mif\u001b[39;00m not_composite \u001b[38;5;129;01mor\u001b[39;00m \u001b[38;5;129;01mnot\u001b[39;00m has_images:\n\u001b[1;32m    131\u001b[0m     \u001b[38;5;28;01mfor\u001b[39;00m a \u001b[38;5;129;01min\u001b[39;00m artists:\n\u001b[0;32m--> 132\u001b[0m         \u001b[43ma\u001b[49m\u001b[38;5;241;43m.\u001b[39;49m\u001b[43mdraw\u001b[49m\u001b[43m(\u001b[49m\u001b[43mrenderer\u001b[49m\u001b[43m)\u001b[49m\n\u001b[1;32m    133\u001b[0m \u001b[38;5;28;01melse\u001b[39;00m:\n\u001b[1;32m    134\u001b[0m     \u001b[38;5;66;03m# Composite any adjacent images together\u001b[39;00m\n\u001b[1;32m    135\u001b[0m     image_group \u001b[38;5;241m=\u001b[39m []\n",
      "File \u001b[0;32m~/miniconda3/envs/qmcpy/lib/python3.9/site-packages/matplotlib/artist.py:50\u001b[0m, in \u001b[0;36mallow_rasterization.<locals>.draw_wrapper\u001b[0;34m(artist, renderer)\u001b[0m\n\u001b[1;32m     47\u001b[0m     \u001b[38;5;28;01mif\u001b[39;00m artist\u001b[38;5;241m.\u001b[39mget_agg_filter() \u001b[38;5;129;01mis\u001b[39;00m \u001b[38;5;129;01mnot\u001b[39;00m \u001b[38;5;28;01mNone\u001b[39;00m:\n\u001b[1;32m     48\u001b[0m         renderer\u001b[38;5;241m.\u001b[39mstart_filter()\n\u001b[0;32m---> 50\u001b[0m     \u001b[38;5;28;01mreturn\u001b[39;00m \u001b[43mdraw\u001b[49m\u001b[43m(\u001b[49m\u001b[43martist\u001b[49m\u001b[43m,\u001b[49m\u001b[43m \u001b[49m\u001b[43mrenderer\u001b[49m\u001b[43m)\u001b[49m\n\u001b[1;32m     51\u001b[0m \u001b[38;5;28;01mfinally\u001b[39;00m:\n\u001b[1;32m     52\u001b[0m     \u001b[38;5;28;01mif\u001b[39;00m artist\u001b[38;5;241m.\u001b[39mget_agg_filter() \u001b[38;5;129;01mis\u001b[39;00m \u001b[38;5;129;01mnot\u001b[39;00m \u001b[38;5;28;01mNone\u001b[39;00m:\n",
      "File \u001b[0;32m~/miniconda3/envs/qmcpy/lib/python3.9/site-packages/matplotlib/legend.py:620\u001b[0m, in \u001b[0;36mLegend.draw\u001b[0;34m(self, renderer)\u001b[0m\n\u001b[1;32m    616\u001b[0m     \u001b[38;5;28mself\u001b[39m\u001b[38;5;241m.\u001b[39m_legend_box\u001b[38;5;241m.\u001b[39mset_width(\u001b[38;5;28mself\u001b[39m\u001b[38;5;241m.\u001b[39mget_bbox_to_anchor()\u001b[38;5;241m.\u001b[39mwidth \u001b[38;5;241m-\u001b[39m pad)\n\u001b[1;32m    618\u001b[0m \u001b[38;5;66;03m# update the location and size of the legend. This needs to\u001b[39;00m\n\u001b[1;32m    619\u001b[0m \u001b[38;5;66;03m# be done in any case to clip the figure right.\u001b[39;00m\n\u001b[0;32m--> 620\u001b[0m bbox \u001b[38;5;241m=\u001b[39m \u001b[38;5;28;43mself\u001b[39;49m\u001b[38;5;241;43m.\u001b[39;49m\u001b[43m_legend_box\u001b[49m\u001b[38;5;241;43m.\u001b[39;49m\u001b[43mget_window_extent\u001b[49m\u001b[43m(\u001b[49m\u001b[43mrenderer\u001b[49m\u001b[43m)\u001b[49m\n\u001b[1;32m    621\u001b[0m \u001b[38;5;28mself\u001b[39m\u001b[38;5;241m.\u001b[39mlegendPatch\u001b[38;5;241m.\u001b[39mset_bounds(bbox\u001b[38;5;241m.\u001b[39mx0, bbox\u001b[38;5;241m.\u001b[39my0, bbox\u001b[38;5;241m.\u001b[39mwidth, bbox\u001b[38;5;241m.\u001b[39mheight)\n\u001b[1;32m    622\u001b[0m \u001b[38;5;28mself\u001b[39m\u001b[38;5;241m.\u001b[39mlegendPatch\u001b[38;5;241m.\u001b[39mset_mutation_scale(fontsize)\n",
      "File \u001b[0;32m~/miniconda3/envs/qmcpy/lib/python3.9/site-packages/matplotlib/offsetbox.py:350\u001b[0m, in \u001b[0;36mOffsetBox.get_window_extent\u001b[0;34m(self, renderer)\u001b[0m\n\u001b[1;32m    348\u001b[0m \u001b[38;5;28;01mdef\u001b[39;00m\u001b[38;5;250m \u001b[39m\u001b[38;5;21mget_window_extent\u001b[39m(\u001b[38;5;28mself\u001b[39m, renderer):\n\u001b[1;32m    349\u001b[0m     \u001b[38;5;66;03m# docstring inherited\u001b[39;00m\n\u001b[0;32m--> 350\u001b[0m     w, h, xd, yd, offsets \u001b[38;5;241m=\u001b[39m \u001b[38;5;28;43mself\u001b[39;49m\u001b[38;5;241;43m.\u001b[39;49m\u001b[43mget_extent_offsets\u001b[49m\u001b[43m(\u001b[49m\u001b[43mrenderer\u001b[49m\u001b[43m)\u001b[49m\n\u001b[1;32m    351\u001b[0m     px, py \u001b[38;5;241m=\u001b[39m \u001b[38;5;28mself\u001b[39m\u001b[38;5;241m.\u001b[39mget_offset(w, h, xd, yd, renderer)\n\u001b[1;32m    352\u001b[0m     \u001b[38;5;28;01mreturn\u001b[39;00m mtransforms\u001b[38;5;241m.\u001b[39mBbox\u001b[38;5;241m.\u001b[39mfrom_bounds(px \u001b[38;5;241m-\u001b[39m xd, py \u001b[38;5;241m-\u001b[39m yd, w, h)\n",
      "File \u001b[0;32m~/miniconda3/envs/qmcpy/lib/python3.9/site-packages/matplotlib/offsetbox.py:436\u001b[0m, in \u001b[0;36mVPacker.get_extent_offsets\u001b[0;34m(self, renderer)\u001b[0m\n\u001b[1;32m    433\u001b[0m         \u001b[38;5;28;01mif\u001b[39;00m \u001b[38;5;28misinstance\u001b[39m(c, PackerBase) \u001b[38;5;129;01mand\u001b[39;00m c\u001b[38;5;241m.\u001b[39mmode \u001b[38;5;241m==\u001b[39m \u001b[38;5;124m\"\u001b[39m\u001b[38;5;124mexpand\u001b[39m\u001b[38;5;124m\"\u001b[39m:\n\u001b[1;32m    434\u001b[0m             c\u001b[38;5;241m.\u001b[39mset_width(\u001b[38;5;28mself\u001b[39m\u001b[38;5;241m.\u001b[39mwidth)\n\u001b[0;32m--> 436\u001b[0m whd_list \u001b[38;5;241m=\u001b[39m [c\u001b[38;5;241m.\u001b[39mget_extent(renderer)\n\u001b[1;32m    437\u001b[0m             \u001b[38;5;28;01mfor\u001b[39;00m c \u001b[38;5;129;01min\u001b[39;00m \u001b[38;5;28mself\u001b[39m\u001b[38;5;241m.\u001b[39mget_visible_children()]\n\u001b[1;32m    438\u001b[0m whd_list \u001b[38;5;241m=\u001b[39m [(w, h, xd, (h \u001b[38;5;241m-\u001b[39m yd)) \u001b[38;5;28;01mfor\u001b[39;00m w, h, xd, yd \u001b[38;5;129;01min\u001b[39;00m whd_list]\n\u001b[1;32m    440\u001b[0m wd_list \u001b[38;5;241m=\u001b[39m [(w, xd) \u001b[38;5;28;01mfor\u001b[39;00m w, h, xd, yd \u001b[38;5;129;01min\u001b[39;00m whd_list]\n",
      "File \u001b[0;32m~/miniconda3/envs/qmcpy/lib/python3.9/site-packages/matplotlib/offsetbox.py:436\u001b[0m, in \u001b[0;36m<listcomp>\u001b[0;34m(.0)\u001b[0m\n\u001b[1;32m    433\u001b[0m         \u001b[38;5;28;01mif\u001b[39;00m \u001b[38;5;28misinstance\u001b[39m(c, PackerBase) \u001b[38;5;129;01mand\u001b[39;00m c\u001b[38;5;241m.\u001b[39mmode \u001b[38;5;241m==\u001b[39m \u001b[38;5;124m\"\u001b[39m\u001b[38;5;124mexpand\u001b[39m\u001b[38;5;124m\"\u001b[39m:\n\u001b[1;32m    434\u001b[0m             c\u001b[38;5;241m.\u001b[39mset_width(\u001b[38;5;28mself\u001b[39m\u001b[38;5;241m.\u001b[39mwidth)\n\u001b[0;32m--> 436\u001b[0m whd_list \u001b[38;5;241m=\u001b[39m [\u001b[43mc\u001b[49m\u001b[38;5;241;43m.\u001b[39;49m\u001b[43mget_extent\u001b[49m\u001b[43m(\u001b[49m\u001b[43mrenderer\u001b[49m\u001b[43m)\u001b[49m\n\u001b[1;32m    437\u001b[0m             \u001b[38;5;28;01mfor\u001b[39;00m c \u001b[38;5;129;01min\u001b[39;00m \u001b[38;5;28mself\u001b[39m\u001b[38;5;241m.\u001b[39mget_visible_children()]\n\u001b[1;32m    438\u001b[0m whd_list \u001b[38;5;241m=\u001b[39m [(w, h, xd, (h \u001b[38;5;241m-\u001b[39m yd)) \u001b[38;5;28;01mfor\u001b[39;00m w, h, xd, yd \u001b[38;5;129;01min\u001b[39;00m whd_list]\n\u001b[1;32m    440\u001b[0m wd_list \u001b[38;5;241m=\u001b[39m [(w, xd) \u001b[38;5;28;01mfor\u001b[39;00m w, h, xd, yd \u001b[38;5;129;01min\u001b[39;00m whd_list]\n",
      "File \u001b[0;32m~/miniconda3/envs/qmcpy/lib/python3.9/site-packages/matplotlib/offsetbox.py:345\u001b[0m, in \u001b[0;36mOffsetBox.get_extent\u001b[0;34m(self, renderer)\u001b[0m\n\u001b[1;32m    343\u001b[0m \u001b[38;5;28;01mdef\u001b[39;00m\u001b[38;5;250m \u001b[39m\u001b[38;5;21mget_extent\u001b[39m(\u001b[38;5;28mself\u001b[39m, renderer):\n\u001b[1;32m    344\u001b[0m \u001b[38;5;250m    \u001b[39m\u001b[38;5;124;03m\"\"\"Return a tuple ``width, height, xdescent, ydescent`` of the box.\"\"\"\u001b[39;00m\n\u001b[0;32m--> 345\u001b[0m     w, h, xd, yd, offsets \u001b[38;5;241m=\u001b[39m \u001b[38;5;28;43mself\u001b[39;49m\u001b[38;5;241;43m.\u001b[39;49m\u001b[43mget_extent_offsets\u001b[49m\u001b[43m(\u001b[49m\u001b[43mrenderer\u001b[49m\u001b[43m)\u001b[49m\n\u001b[1;32m    346\u001b[0m     \u001b[38;5;28;01mreturn\u001b[39;00m w, h, xd, yd\n",
      "File \u001b[0;32m~/miniconda3/envs/qmcpy/lib/python3.9/site-packages/matplotlib/offsetbox.py:472\u001b[0m, in \u001b[0;36mHPacker.get_extent_offsets\u001b[0;34m(self, renderer)\u001b[0m\n\u001b[1;32m    469\u001b[0m pad \u001b[38;5;241m=\u001b[39m \u001b[38;5;28mself\u001b[39m\u001b[38;5;241m.\u001b[39mpad \u001b[38;5;241m*\u001b[39m dpicor\n\u001b[1;32m    470\u001b[0m sep \u001b[38;5;241m=\u001b[39m \u001b[38;5;28mself\u001b[39m\u001b[38;5;241m.\u001b[39msep \u001b[38;5;241m*\u001b[39m dpicor\n\u001b[0;32m--> 472\u001b[0m whd_list \u001b[38;5;241m=\u001b[39m [c\u001b[38;5;241m.\u001b[39mget_extent(renderer)\n\u001b[1;32m    473\u001b[0m             \u001b[38;5;28;01mfor\u001b[39;00m c \u001b[38;5;129;01min\u001b[39;00m \u001b[38;5;28mself\u001b[39m\u001b[38;5;241m.\u001b[39mget_visible_children()]\n\u001b[1;32m    475\u001b[0m \u001b[38;5;28;01mif\u001b[39;00m \u001b[38;5;129;01mnot\u001b[39;00m whd_list:\n\u001b[1;32m    476\u001b[0m     \u001b[38;5;28;01mreturn\u001b[39;00m \u001b[38;5;241m2\u001b[39m \u001b[38;5;241m*\u001b[39m pad, \u001b[38;5;241m2\u001b[39m \u001b[38;5;241m*\u001b[39m pad, pad, pad, []\n",
      "File \u001b[0;32m~/miniconda3/envs/qmcpy/lib/python3.9/site-packages/matplotlib/offsetbox.py:472\u001b[0m, in \u001b[0;36m<listcomp>\u001b[0;34m(.0)\u001b[0m\n\u001b[1;32m    469\u001b[0m pad \u001b[38;5;241m=\u001b[39m \u001b[38;5;28mself\u001b[39m\u001b[38;5;241m.\u001b[39mpad \u001b[38;5;241m*\u001b[39m dpicor\n\u001b[1;32m    470\u001b[0m sep \u001b[38;5;241m=\u001b[39m \u001b[38;5;28mself\u001b[39m\u001b[38;5;241m.\u001b[39msep \u001b[38;5;241m*\u001b[39m dpicor\n\u001b[0;32m--> 472\u001b[0m whd_list \u001b[38;5;241m=\u001b[39m [\u001b[43mc\u001b[49m\u001b[38;5;241;43m.\u001b[39;49m\u001b[43mget_extent\u001b[49m\u001b[43m(\u001b[49m\u001b[43mrenderer\u001b[49m\u001b[43m)\u001b[49m\n\u001b[1;32m    473\u001b[0m             \u001b[38;5;28;01mfor\u001b[39;00m c \u001b[38;5;129;01min\u001b[39;00m \u001b[38;5;28mself\u001b[39m\u001b[38;5;241m.\u001b[39mget_visible_children()]\n\u001b[1;32m    475\u001b[0m \u001b[38;5;28;01mif\u001b[39;00m \u001b[38;5;129;01mnot\u001b[39;00m whd_list:\n\u001b[1;32m    476\u001b[0m     \u001b[38;5;28;01mreturn\u001b[39;00m \u001b[38;5;241m2\u001b[39m \u001b[38;5;241m*\u001b[39m pad, \u001b[38;5;241m2\u001b[39m \u001b[38;5;241m*\u001b[39m pad, pad, pad, []\n",
      "File \u001b[0;32m~/miniconda3/envs/qmcpy/lib/python3.9/site-packages/matplotlib/offsetbox.py:345\u001b[0m, in \u001b[0;36mOffsetBox.get_extent\u001b[0;34m(self, renderer)\u001b[0m\n\u001b[1;32m    343\u001b[0m \u001b[38;5;28;01mdef\u001b[39;00m\u001b[38;5;250m \u001b[39m\u001b[38;5;21mget_extent\u001b[39m(\u001b[38;5;28mself\u001b[39m, renderer):\n\u001b[1;32m    344\u001b[0m \u001b[38;5;250m    \u001b[39m\u001b[38;5;124;03m\"\"\"Return a tuple ``width, height, xdescent, ydescent`` of the box.\"\"\"\u001b[39;00m\n\u001b[0;32m--> 345\u001b[0m     w, h, xd, yd, offsets \u001b[38;5;241m=\u001b[39m \u001b[38;5;28;43mself\u001b[39;49m\u001b[38;5;241;43m.\u001b[39;49m\u001b[43mget_extent_offsets\u001b[49m\u001b[43m(\u001b[49m\u001b[43mrenderer\u001b[49m\u001b[43m)\u001b[49m\n\u001b[1;32m    346\u001b[0m     \u001b[38;5;28;01mreturn\u001b[39;00m w, h, xd, yd\n",
      "File \u001b[0;32m~/miniconda3/envs/qmcpy/lib/python3.9/site-packages/matplotlib/offsetbox.py:436\u001b[0m, in \u001b[0;36mVPacker.get_extent_offsets\u001b[0;34m(self, renderer)\u001b[0m\n\u001b[1;32m    433\u001b[0m         \u001b[38;5;28;01mif\u001b[39;00m \u001b[38;5;28misinstance\u001b[39m(c, PackerBase) \u001b[38;5;129;01mand\u001b[39;00m c\u001b[38;5;241m.\u001b[39mmode \u001b[38;5;241m==\u001b[39m \u001b[38;5;124m\"\u001b[39m\u001b[38;5;124mexpand\u001b[39m\u001b[38;5;124m\"\u001b[39m:\n\u001b[1;32m    434\u001b[0m             c\u001b[38;5;241m.\u001b[39mset_width(\u001b[38;5;28mself\u001b[39m\u001b[38;5;241m.\u001b[39mwidth)\n\u001b[0;32m--> 436\u001b[0m whd_list \u001b[38;5;241m=\u001b[39m [c\u001b[38;5;241m.\u001b[39mget_extent(renderer)\n\u001b[1;32m    437\u001b[0m             \u001b[38;5;28;01mfor\u001b[39;00m c \u001b[38;5;129;01min\u001b[39;00m \u001b[38;5;28mself\u001b[39m\u001b[38;5;241m.\u001b[39mget_visible_children()]\n\u001b[1;32m    438\u001b[0m whd_list \u001b[38;5;241m=\u001b[39m [(w, h, xd, (h \u001b[38;5;241m-\u001b[39m yd)) \u001b[38;5;28;01mfor\u001b[39;00m w, h, xd, yd \u001b[38;5;129;01min\u001b[39;00m whd_list]\n\u001b[1;32m    440\u001b[0m wd_list \u001b[38;5;241m=\u001b[39m [(w, xd) \u001b[38;5;28;01mfor\u001b[39;00m w, h, xd, yd \u001b[38;5;129;01min\u001b[39;00m whd_list]\n",
      "File \u001b[0;32m~/miniconda3/envs/qmcpy/lib/python3.9/site-packages/matplotlib/offsetbox.py:436\u001b[0m, in \u001b[0;36m<listcomp>\u001b[0;34m(.0)\u001b[0m\n\u001b[1;32m    433\u001b[0m         \u001b[38;5;28;01mif\u001b[39;00m \u001b[38;5;28misinstance\u001b[39m(c, PackerBase) \u001b[38;5;129;01mand\u001b[39;00m c\u001b[38;5;241m.\u001b[39mmode \u001b[38;5;241m==\u001b[39m \u001b[38;5;124m\"\u001b[39m\u001b[38;5;124mexpand\u001b[39m\u001b[38;5;124m\"\u001b[39m:\n\u001b[1;32m    434\u001b[0m             c\u001b[38;5;241m.\u001b[39mset_width(\u001b[38;5;28mself\u001b[39m\u001b[38;5;241m.\u001b[39mwidth)\n\u001b[0;32m--> 436\u001b[0m whd_list \u001b[38;5;241m=\u001b[39m [\u001b[43mc\u001b[49m\u001b[38;5;241;43m.\u001b[39;49m\u001b[43mget_extent\u001b[49m\u001b[43m(\u001b[49m\u001b[43mrenderer\u001b[49m\u001b[43m)\u001b[49m\n\u001b[1;32m    437\u001b[0m             \u001b[38;5;28;01mfor\u001b[39;00m c \u001b[38;5;129;01min\u001b[39;00m \u001b[38;5;28mself\u001b[39m\u001b[38;5;241m.\u001b[39mget_visible_children()]\n\u001b[1;32m    438\u001b[0m whd_list \u001b[38;5;241m=\u001b[39m [(w, h, xd, (h \u001b[38;5;241m-\u001b[39m yd)) \u001b[38;5;28;01mfor\u001b[39;00m w, h, xd, yd \u001b[38;5;129;01min\u001b[39;00m whd_list]\n\u001b[1;32m    440\u001b[0m wd_list \u001b[38;5;241m=\u001b[39m [(w, xd) \u001b[38;5;28;01mfor\u001b[39;00m w, h, xd, yd \u001b[38;5;129;01min\u001b[39;00m whd_list]\n",
      "File \u001b[0;32m~/miniconda3/envs/qmcpy/lib/python3.9/site-packages/matplotlib/offsetbox.py:345\u001b[0m, in \u001b[0;36mOffsetBox.get_extent\u001b[0;34m(self, renderer)\u001b[0m\n\u001b[1;32m    343\u001b[0m \u001b[38;5;28;01mdef\u001b[39;00m\u001b[38;5;250m \u001b[39m\u001b[38;5;21mget_extent\u001b[39m(\u001b[38;5;28mself\u001b[39m, renderer):\n\u001b[1;32m    344\u001b[0m \u001b[38;5;250m    \u001b[39m\u001b[38;5;124;03m\"\"\"Return a tuple ``width, height, xdescent, ydescent`` of the box.\"\"\"\u001b[39;00m\n\u001b[0;32m--> 345\u001b[0m     w, h, xd, yd, offsets \u001b[38;5;241m=\u001b[39m \u001b[38;5;28;43mself\u001b[39;49m\u001b[38;5;241;43m.\u001b[39;49m\u001b[43mget_extent_offsets\u001b[49m\u001b[43m(\u001b[49m\u001b[43mrenderer\u001b[49m\u001b[43m)\u001b[49m\n\u001b[1;32m    346\u001b[0m     \u001b[38;5;28;01mreturn\u001b[39;00m w, h, xd, yd\n",
      "File \u001b[0;32m~/miniconda3/envs/qmcpy/lib/python3.9/site-packages/matplotlib/offsetbox.py:472\u001b[0m, in \u001b[0;36mHPacker.get_extent_offsets\u001b[0;34m(self, renderer)\u001b[0m\n\u001b[1;32m    469\u001b[0m pad \u001b[38;5;241m=\u001b[39m \u001b[38;5;28mself\u001b[39m\u001b[38;5;241m.\u001b[39mpad \u001b[38;5;241m*\u001b[39m dpicor\n\u001b[1;32m    470\u001b[0m sep \u001b[38;5;241m=\u001b[39m \u001b[38;5;28mself\u001b[39m\u001b[38;5;241m.\u001b[39msep \u001b[38;5;241m*\u001b[39m dpicor\n\u001b[0;32m--> 472\u001b[0m whd_list \u001b[38;5;241m=\u001b[39m [c\u001b[38;5;241m.\u001b[39mget_extent(renderer)\n\u001b[1;32m    473\u001b[0m             \u001b[38;5;28;01mfor\u001b[39;00m c \u001b[38;5;129;01min\u001b[39;00m \u001b[38;5;28mself\u001b[39m\u001b[38;5;241m.\u001b[39mget_visible_children()]\n\u001b[1;32m    475\u001b[0m \u001b[38;5;28;01mif\u001b[39;00m \u001b[38;5;129;01mnot\u001b[39;00m whd_list:\n\u001b[1;32m    476\u001b[0m     \u001b[38;5;28;01mreturn\u001b[39;00m \u001b[38;5;241m2\u001b[39m \u001b[38;5;241m*\u001b[39m pad, \u001b[38;5;241m2\u001b[39m \u001b[38;5;241m*\u001b[39m pad, pad, pad, []\n",
      "File \u001b[0;32m~/miniconda3/envs/qmcpy/lib/python3.9/site-packages/matplotlib/offsetbox.py:472\u001b[0m, in \u001b[0;36m<listcomp>\u001b[0;34m(.0)\u001b[0m\n\u001b[1;32m    469\u001b[0m pad \u001b[38;5;241m=\u001b[39m \u001b[38;5;28mself\u001b[39m\u001b[38;5;241m.\u001b[39mpad \u001b[38;5;241m*\u001b[39m dpicor\n\u001b[1;32m    470\u001b[0m sep \u001b[38;5;241m=\u001b[39m \u001b[38;5;28mself\u001b[39m\u001b[38;5;241m.\u001b[39msep \u001b[38;5;241m*\u001b[39m dpicor\n\u001b[0;32m--> 472\u001b[0m whd_list \u001b[38;5;241m=\u001b[39m [\u001b[43mc\u001b[49m\u001b[38;5;241;43m.\u001b[39;49m\u001b[43mget_extent\u001b[49m\u001b[43m(\u001b[49m\u001b[43mrenderer\u001b[49m\u001b[43m)\u001b[49m\n\u001b[1;32m    473\u001b[0m             \u001b[38;5;28;01mfor\u001b[39;00m c \u001b[38;5;129;01min\u001b[39;00m \u001b[38;5;28mself\u001b[39m\u001b[38;5;241m.\u001b[39mget_visible_children()]\n\u001b[1;32m    475\u001b[0m \u001b[38;5;28;01mif\u001b[39;00m \u001b[38;5;129;01mnot\u001b[39;00m whd_list:\n\u001b[1;32m    476\u001b[0m     \u001b[38;5;28;01mreturn\u001b[39;00m \u001b[38;5;241m2\u001b[39m \u001b[38;5;241m*\u001b[39m pad, \u001b[38;5;241m2\u001b[39m \u001b[38;5;241m*\u001b[39m pad, pad, pad, []\n",
      "File \u001b[0;32m~/miniconda3/envs/qmcpy/lib/python3.9/site-packages/matplotlib/offsetbox.py:813\u001b[0m, in \u001b[0;36mTextArea.get_extent\u001b[0;34m(self, renderer)\u001b[0m\n\u001b[1;32m    808\u001b[0m \u001b[38;5;28;01mdef\u001b[39;00m\u001b[38;5;250m \u001b[39m\u001b[38;5;21mget_extent\u001b[39m(\u001b[38;5;28mself\u001b[39m, renderer):\n\u001b[1;32m    809\u001b[0m     _, h_, d_ \u001b[38;5;241m=\u001b[39m renderer\u001b[38;5;241m.\u001b[39mget_text_width_height_descent(\n\u001b[1;32m    810\u001b[0m         \u001b[38;5;124m\"\u001b[39m\u001b[38;5;124mlp\u001b[39m\u001b[38;5;124m\"\u001b[39m, \u001b[38;5;28mself\u001b[39m\u001b[38;5;241m.\u001b[39m_text\u001b[38;5;241m.\u001b[39m_fontproperties,\n\u001b[1;32m    811\u001b[0m         ismath\u001b[38;5;241m=\u001b[39m\u001b[38;5;124m\"\u001b[39m\u001b[38;5;124mTeX\u001b[39m\u001b[38;5;124m\"\u001b[39m \u001b[38;5;28;01mif\u001b[39;00m \u001b[38;5;28mself\u001b[39m\u001b[38;5;241m.\u001b[39m_text\u001b[38;5;241m.\u001b[39mget_usetex() \u001b[38;5;28;01melse\u001b[39;00m \u001b[38;5;28;01mFalse\u001b[39;00m)\n\u001b[0;32m--> 813\u001b[0m     bbox, info, yd \u001b[38;5;241m=\u001b[39m \u001b[38;5;28;43mself\u001b[39;49m\u001b[38;5;241;43m.\u001b[39;49m\u001b[43m_text\u001b[49m\u001b[38;5;241;43m.\u001b[39;49m\u001b[43m_get_layout\u001b[49m\u001b[43m(\u001b[49m\u001b[43mrenderer\u001b[49m\u001b[43m)\u001b[49m\n\u001b[1;32m    814\u001b[0m     w, h \u001b[38;5;241m=\u001b[39m bbox\u001b[38;5;241m.\u001b[39mwidth, bbox\u001b[38;5;241m.\u001b[39mheight\n\u001b[1;32m    816\u001b[0m     \u001b[38;5;28mself\u001b[39m\u001b[38;5;241m.\u001b[39m_baseline_transform\u001b[38;5;241m.\u001b[39mclear()\n",
      "File \u001b[0;32m~/miniconda3/envs/qmcpy/lib/python3.9/site-packages/matplotlib/text.py:317\u001b[0m, in \u001b[0;36mText._get_layout\u001b[0;34m(self, renderer)\u001b[0m\n\u001b[1;32m    315\u001b[0m clean_line, ismath \u001b[38;5;241m=\u001b[39m \u001b[38;5;28mself\u001b[39m\u001b[38;5;241m.\u001b[39m_preprocess_math(line)\n\u001b[1;32m    316\u001b[0m \u001b[38;5;28;01mif\u001b[39;00m clean_line:\n\u001b[0;32m--> 317\u001b[0m     w, h, d \u001b[38;5;241m=\u001b[39m \u001b[43mrenderer\u001b[49m\u001b[38;5;241;43m.\u001b[39;49m\u001b[43mget_text_width_height_descent\u001b[49m\u001b[43m(\u001b[49m\n\u001b[1;32m    318\u001b[0m \u001b[43m        \u001b[49m\u001b[43mclean_line\u001b[49m\u001b[43m,\u001b[49m\u001b[43m \u001b[49m\u001b[38;5;28;43mself\u001b[39;49m\u001b[38;5;241;43m.\u001b[39;49m\u001b[43m_fontproperties\u001b[49m\u001b[43m,\u001b[49m\u001b[43m \u001b[49m\u001b[43mismath\u001b[49m\u001b[38;5;241;43m=\u001b[39;49m\u001b[43mismath\u001b[49m\u001b[43m)\u001b[49m\n\u001b[1;32m    319\u001b[0m \u001b[38;5;28;01melse\u001b[39;00m:\n\u001b[1;32m    320\u001b[0m     w \u001b[38;5;241m=\u001b[39m h \u001b[38;5;241m=\u001b[39m d \u001b[38;5;241m=\u001b[39m \u001b[38;5;241m0\u001b[39m\n",
      "File \u001b[0;32m~/miniconda3/envs/qmcpy/lib/python3.9/site-packages/matplotlib/backends/backend_agg.py:265\u001b[0m, in \u001b[0;36mRendererAgg.get_text_width_height_descent\u001b[0;34m(self, s, prop, ismath)\u001b[0m\n\u001b[1;32m    261\u001b[0m     \u001b[38;5;28;01mreturn\u001b[39;00m w, h, d\n\u001b[1;32m    263\u001b[0m \u001b[38;5;28;01mif\u001b[39;00m ismath:\n\u001b[1;32m    264\u001b[0m     ox, oy, width, height, descent, fonts, used_characters \u001b[38;5;241m=\u001b[39m \\\n\u001b[0;32m--> 265\u001b[0m         \u001b[38;5;28;43mself\u001b[39;49m\u001b[38;5;241;43m.\u001b[39;49m\u001b[43mmathtext_parser\u001b[49m\u001b[38;5;241;43m.\u001b[39;49m\u001b[43mparse\u001b[49m\u001b[43m(\u001b[49m\u001b[43ms\u001b[49m\u001b[43m,\u001b[49m\u001b[43m \u001b[49m\u001b[38;5;28;43mself\u001b[39;49m\u001b[38;5;241;43m.\u001b[39;49m\u001b[43mdpi\u001b[49m\u001b[43m,\u001b[49m\u001b[43m \u001b[49m\u001b[43mprop\u001b[49m\u001b[43m)\u001b[49m\n\u001b[1;32m    266\u001b[0m     \u001b[38;5;28;01mreturn\u001b[39;00m width, height, descent\n\u001b[1;32m    268\u001b[0m flags \u001b[38;5;241m=\u001b[39m get_hinting_flag()\n",
      "File \u001b[0;32m~/miniconda3/envs/qmcpy/lib/python3.9/site-packages/matplotlib/mathtext.py:435\u001b[0m, in \u001b[0;36mMathTextParser.parse\u001b[0;34m(self, s, dpi, prop, _force_standard_ps_fonts)\u001b[0m\n\u001b[1;32m    420\u001b[0m     _api\u001b[38;5;241m.\u001b[39mwarn_deprecated(\n\u001b[1;32m    421\u001b[0m         \u001b[38;5;124m\"\u001b[39m\u001b[38;5;124m3.4\u001b[39m\u001b[38;5;124m\"\u001b[39m,\n\u001b[1;32m    422\u001b[0m         removal\u001b[38;5;241m=\u001b[39m\u001b[38;5;124m\"\u001b[39m\u001b[38;5;124m3.5\u001b[39m\u001b[38;5;124m\"\u001b[39m,\n\u001b[0;32m   (...)\u001b[0m\n\u001b[1;32m    429\u001b[0m         )\n\u001b[1;32m    430\u001b[0m     )\n\u001b[1;32m    432\u001b[0m \u001b[38;5;66;03m# lru_cache can't decorate parse() directly because the ps.useafm and\u001b[39;00m\n\u001b[1;32m    433\u001b[0m \u001b[38;5;66;03m# mathtext.fontset rcParams also affect the parse (e.g. by affecting\u001b[39;00m\n\u001b[1;32m    434\u001b[0m \u001b[38;5;66;03m# the glyph metrics).\u001b[39;00m\n\u001b[0;32m--> 435\u001b[0m \u001b[38;5;28;01mreturn\u001b[39;00m \u001b[38;5;28;43mself\u001b[39;49m\u001b[38;5;241;43m.\u001b[39;49m\u001b[43m_parse_cached\u001b[49m\u001b[43m(\u001b[49m\u001b[43ms\u001b[49m\u001b[43m,\u001b[49m\u001b[43m \u001b[49m\u001b[43mdpi\u001b[49m\u001b[43m,\u001b[49m\u001b[43m \u001b[49m\u001b[43mprop\u001b[49m\u001b[43m,\u001b[49m\u001b[43m \u001b[49m\u001b[43m_force_standard_ps_fonts\u001b[49m\u001b[43m)\u001b[49m\n",
      "File \u001b[0;32m~/miniconda3/envs/qmcpy/lib/python3.9/site-packages/matplotlib/mathtext.py:456\u001b[0m, in \u001b[0;36mMathTextParser._parse_cached\u001b[0;34m(self, s, dpi, prop, force_standard_ps_fonts)\u001b[0m\n\u001b[1;32m    453\u001b[0m \u001b[38;5;28;01mif\u001b[39;00m \u001b[38;5;28mself\u001b[39m\u001b[38;5;241m.\u001b[39m_parser \u001b[38;5;129;01mis\u001b[39;00m \u001b[38;5;28;01mNone\u001b[39;00m:\n\u001b[1;32m    454\u001b[0m     \u001b[38;5;28mself\u001b[39m\u001b[38;5;241m.\u001b[39m\u001b[38;5;18m__class__\u001b[39m\u001b[38;5;241m.\u001b[39m_parser \u001b[38;5;241m=\u001b[39m _mathtext\u001b[38;5;241m.\u001b[39mParser()\n\u001b[0;32m--> 456\u001b[0m box \u001b[38;5;241m=\u001b[39m \u001b[38;5;28;43mself\u001b[39;49m\u001b[38;5;241;43m.\u001b[39;49m\u001b[43m_parser\u001b[49m\u001b[38;5;241;43m.\u001b[39;49m\u001b[43mparse\u001b[49m\u001b[43m(\u001b[49m\u001b[43ms\u001b[49m\u001b[43m,\u001b[49m\u001b[43m \u001b[49m\u001b[43mfont_output\u001b[49m\u001b[43m,\u001b[49m\u001b[43m \u001b[49m\u001b[43mfontsize\u001b[49m\u001b[43m,\u001b[49m\u001b[43m \u001b[49m\u001b[43mdpi\u001b[49m\u001b[43m)\u001b[49m\n\u001b[1;32m    457\u001b[0m font_output\u001b[38;5;241m.\u001b[39mset_canvas_size(box\u001b[38;5;241m.\u001b[39mwidth, box\u001b[38;5;241m.\u001b[39mheight, box\u001b[38;5;241m.\u001b[39mdepth)\n\u001b[1;32m    458\u001b[0m \u001b[38;5;28;01mreturn\u001b[39;00m font_output\u001b[38;5;241m.\u001b[39mget_results(box)\n",
      "File \u001b[0;32m~/miniconda3/envs/qmcpy/lib/python3.9/site-packages/matplotlib/_mathtext.py:2239\u001b[0m, in \u001b[0;36mParser.parse\u001b[0;34m(self, s, fonts_object, fontsize, dpi)\u001b[0m\n\u001b[1;32m   2237\u001b[0m     result \u001b[38;5;241m=\u001b[39m \u001b[38;5;28mself\u001b[39m\u001b[38;5;241m.\u001b[39m_expression\u001b[38;5;241m.\u001b[39mparseString(s)\n\u001b[1;32m   2238\u001b[0m \u001b[38;5;28;01mexcept\u001b[39;00m ParseBaseException \u001b[38;5;28;01mas\u001b[39;00m err:\n\u001b[0;32m-> 2239\u001b[0m     \u001b[38;5;28;01mraise\u001b[39;00m \u001b[38;5;167;01mValueError\u001b[39;00m(\u001b[38;5;124m\"\u001b[39m\u001b[38;5;130;01m\\n\u001b[39;00m\u001b[38;5;124m\"\u001b[39m\u001b[38;5;241m.\u001b[39mjoin([\u001b[38;5;124m\"\u001b[39m\u001b[38;5;124m\"\u001b[39m,\n\u001b[1;32m   2240\u001b[0m                                 err\u001b[38;5;241m.\u001b[39mline,\n\u001b[1;32m   2241\u001b[0m                                 \u001b[38;5;124m\"\u001b[39m\u001b[38;5;124m \u001b[39m\u001b[38;5;124m\"\u001b[39m \u001b[38;5;241m*\u001b[39m (err\u001b[38;5;241m.\u001b[39mcolumn \u001b[38;5;241m-\u001b[39m \u001b[38;5;241m1\u001b[39m) \u001b[38;5;241m+\u001b[39m \u001b[38;5;124m\"\u001b[39m\u001b[38;5;124m^\u001b[39m\u001b[38;5;124m\"\u001b[39m,\n\u001b[1;32m   2242\u001b[0m                                 \u001b[38;5;28mstr\u001b[39m(err)])) \u001b[38;5;28;01mfrom\u001b[39;00m\u001b[38;5;250m \u001b[39m\u001b[38;5;21;01merr\u001b[39;00m\n\u001b[1;32m   2243\u001b[0m \u001b[38;5;28mself\u001b[39m\u001b[38;5;241m.\u001b[39m_state_stack \u001b[38;5;241m=\u001b[39m \u001b[38;5;28;01mNone\u001b[39;00m\n\u001b[1;32m   2244\u001b[0m \u001b[38;5;28mself\u001b[39m\u001b[38;5;241m.\u001b[39m_em_width_cache \u001b[38;5;241m=\u001b[39m {}\n",
      "\u001b[0;31mValueError\u001b[0m: \n\\vx,\\, \\norm{x},\\, \\Ex[\\vx]\n^\nUnknown symbol: \\vx, found '\\'  (at char 0), (line:1, col:1)"
     ]
    },
    {
     "data": {
      "text/plain": [
       "<Figure size 720x480 with 1 Axes>"
      ]
     },
     "metadata": {},
     "output_type": "display_data"
    }
   ],
   "source": [
    "# ---- Sanity check: matplotlib preferences ----\n",
    "\n",
    "# Check some rcParams directly\n",
    "print(\"Figure size:\", plt.rcParams['figure.figsize'])\n",
    "print(\"Figure DPI:\", plt.rcParams['figure.dpi'])\n",
    "print(\"Font size:\", plt.rcParams['font.size'])\n",
    "print(\"Grid enabled:\", plt.rcParams['axes.grid'])\n",
    "print(\"Line width:\", plt.rcParams['lines.linewidth'])\n",
    "print(\"Math fontset:\", plt.rcParams['mathtext.fontset'])\n",
    "\n",
    "# Quick test plot\n",
    "x = np.linspace(0, 2*np.pi, 200)\n",
    "y = np.sin(x)\n",
    "plt.plot(x, np.sin(2*np.pi*x), label=r\"$\\vx,\\, \\norm{x},\\, \\Ex[\\vx]$\")\n",
    "plt.title(\"Sanity Check: Plot Preferences\")\n",
    "plt.xlabel(\"$x$\")\n",
    "plt.ylabel(\"$y$\")\n",
    "plt.legend()\n",
    "plt.show()"
   ]
  }
 ],
 "metadata": {
  "kernelspec": {
   "display_name": "Python 3 (ipykernel)",
   "language": "python",
   "name": "python3"
  },
  "language_info": {
   "codemirror_mode": {
    "name": "ipython",
    "version": 3
   },
   "file_extension": ".py",
   "mimetype": "text/x-python",
   "name": "python",
   "nbconvert_exporter": "python",
   "pygments_lexer": "ipython3",
   "version": "3.9.13"
  }
 },
 "nbformat": 4,
 "nbformat_minor": 5
}
