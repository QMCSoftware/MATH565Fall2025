{
 "cells": [
  {
   "cell_type": "markdown",
   "id": "8bf40480-7b46-4d61-b6e5-30d7333f5668",
   "metadata": {},
   "source": [
    "# Test Colab Bootstrap and Badge\n",
    "This demos some code to facilitate running notebooks in Colab rather than a conda environment.\n",
    "\n",
    "Run the next two cells for set up."
   ]
  },
  {
   "cell_type": "code",
   "execution_count": 1,
   "id": "b19a6f71",
   "metadata": {},
   "outputs": [
    {
     "data": {
      "text/html": [
       "If you are not running this notebook in the <code>conda qmcpy</code> environment, <a target=\"_blank\" href=\"https://colab.research.google.com/github/QMCSoftware/MATH565Fall2025/blob/main/notebooks/TestingDemos/TestColabBootstrapAndBadge.ipynb\"><img src=\"https://colab.research.google.com/assets/colab-badge.svg\" alt=\"Open In Colab\"/></a>"
      ],
      "text/plain": [
       "<IPython.core.display.HTML object>"
      ]
     },
     "metadata": {},
     "output_type": "display_data"
    }
   ],
   "source": [
    "# --- Unified bootstrap cell for local + Colab ---\n",
    "import os, pathlib, subprocess, sys, importlib\n",
    "\n",
    "# --- Required metadata for the header ---\n",
    "os.environ[\"BOOT_ORG\"]   = \"QMCSoftware\"   # GitHub org\n",
    "os.environ[\"BOOT_REPO\"]  = \"MATH565Fall2025\"  # This repo name\n",
    "os.environ[\"NB_PATH\"]    = \"notebooks/TestingDemos/TestColabBootstrapAndBadge.ipynb\"\n",
    "os.environ[\"BOOT_BRANCH\"] = \"main\"         # Target branch\n",
    "os.environ[\"USE_TEX\"]    = \"0\"             # 1 to enable LaTeX rendering\n",
    "os.environ[\"NOTEBOOK_HEADER_AUTORUN\"] = \"0\"  # Avoid double badge\n",
    "\n",
    "# --- Colab: clone repo if missing ---\n",
    "if \"COLAB_RELEASE_TAG\" in os.environ or \"COLAB_GPU\" in os.environ:\n",
    "    repo_dir = pathlib.Path(f\"/content/{os.environ['BOOT_REPO']}\")\n",
    "    if not repo_dir.exists():\n",
    "        subprocess.check_call([\n",
    "            \"git\",\"clone\",\"--depth\",\"1\",\"--recurse-submodules\",\n",
    "            \"-b\", os.environ[\"BOOT_BRANCH\"],\n",
    "            f\"https://github.com/{os.environ['BOOT_ORG']}/{os.environ['BOOT_REPO']}.git\",\n",
    "            str(repo_dir)\n",
    "        ])\n",
    "    sys.path.insert(0, str(repo_dir / \"utils\"))\n",
    "    try:\n",
    "        os.chdir(repo_dir)\n",
    "    except Exception:\n",
    "        pass\n",
    "else:\n",
    "    # Local: add utils to path\n",
    "    repo_root = subprocess.check_output([\"git\",\"rev-parse\",\"--show-toplevel\"], text=True).strip()\n",
    "    sys.path.insert(0, repo_root + \"/utils\")\n",
    "\n",
    "# --- Load notebook header ---\n",
    "import notebook_header\n",
    "importlib.reload(notebook_header)\n",
    "notebook_header.main()"
   ]
  },
  {
   "cell_type": "code",
   "execution_count": 2,
   "id": "c03dbd41",
   "metadata": {
    "execution": {
     "iopub.execute_input": "2025-08-09T20:35:05.165264Z",
     "iopub.status.busy": "2025-08-09T20:35:05.165175Z",
     "iopub.status.idle": "2025-08-09T20:35:06.870235Z",
     "shell.execute_reply": "2025-08-09T20:35:06.869890Z",
     "shell.execute_reply.started": "2025-08-09T20:35:05.165254Z"
    }
   },
   "outputs": [
    {
     "name": "stdout",
     "output_type": "stream",
     "text": [
      "usetex? False\n"
     ]
    },
    {
     "ename": "NameError",
     "evalue": "name 'qp' is not defined",
     "output_type": "error",
     "traceback": [
      "\u001b[0;31m---------------------------------------------------------------------------\u001b[0m",
      "\u001b[0;31mNameError\u001b[0m                                 Traceback (most recent call last)",
      "Cell \u001b[0;32mIn[2], line 7\u001b[0m\n\u001b[1;32m      5\u001b[0m \u001b[38;5;66;03m# ---- Sanity check: qmcpy ----\u001b[39;00m\n\u001b[1;32m      6\u001b[0m n \u001b[38;5;241m=\u001b[39m \u001b[38;5;241m2\u001b[39m\u001b[38;5;241m*\u001b[39m\u001b[38;5;241m*\u001b[39m\u001b[38;5;241m10\u001b[39m\n\u001b[0;32m----> 7\u001b[0m x \u001b[38;5;241m=\u001b[39m \u001b[43mqp\u001b[49m\u001b[38;5;241m.\u001b[39mSobol(\u001b[38;5;241m3\u001b[39m)\u001b[38;5;241m.\u001b[39mgen_samples(n)\n\u001b[1;32m      8\u001b[0m \u001b[38;5;28mprint\u001b[39m(\u001b[38;5;124m\"\u001b[39m\u001b[38;5;124mGenerated\u001b[39m\u001b[38;5;124m\"\u001b[39m, n, \u001b[38;5;124m\"\u001b[39m\u001b[38;5;124msamples in 3D Sobol sequence:\u001b[39m\u001b[38;5;124m\"\u001b[39m)\n\u001b[1;32m      9\u001b[0m \u001b[38;5;28mprint\u001b[39m(x[:\u001b[38;5;241m5\u001b[39m])  \u001b[38;5;66;03m# Print first 5 samples for brevity\u001b[39;00m\n",
      "\u001b[0;31mNameError\u001b[0m: name 'qp' is not defined"
     ]
    }
   ],
   "source": [
    "# ---- Sanity check: matplotlib mode ----\n",
    "import matplotlib as mpl\n",
    "print(\"usetex?\", mpl.rcParams.get(\"text.usetex\"))\n",
    "\n",
    "# ---- Sanity check: qmcpy ----\n",
    "n = 2**10\n",
    "x = qp.Sobol(3).gen_samples(n)\n",
    "print(\"Generated\", n, \"samples in 3D Sobol sequence:\")\n",
    "print(x[:5])  # Print first 5 samples for brevity\n",
    "variance = np.var(x, axis=0)\n",
    "print(\"Variance of all samples:\", variance)"
   ]
  },
  {
   "cell_type": "code",
   "execution_count": 3,
   "id": "13cd38c2",
   "metadata": {},
   "outputs": [
    {
     "name": "stdout",
     "output_type": "stream",
     "text": [
      "qmcpy importable: True\n",
      "qp alias missing; creating now\n"
     ]
    }
   ],
   "source": [
    "import importlib.util\n",
    "print(\"qmcpy importable:\", importlib.util.find_spec(\"qmcpy\") is not None)\n",
    "try:\n",
    "    qp\n",
    "    print(\"qp alias already present\")\n",
    "except NameError:\n",
    "    print(\"qp alias missing; creating now\")\n",
    "    import qmcpy as qp"
   ]
  }
 ],
 "metadata": {
  "kernelspec": {
   "display_name": "qmcpy",
   "language": "python",
   "name": "python3"
  },
  "language_info": {
   "codemirror_mode": {
    "name": "ipython",
    "version": 3
   },
   "file_extension": ".py",
   "mimetype": "text/x-python",
   "name": "python",
   "nbconvert_exporter": "python",
   "pygments_lexer": "ipython3",
   "version": "3.9.13"
  }
 },
 "nbformat": 4,
 "nbformat_minor": 5
}
