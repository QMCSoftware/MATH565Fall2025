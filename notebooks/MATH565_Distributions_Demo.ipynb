{
 "cells": [
  {
   "cell_type": "markdown",
   "metadata": {},
   "source": [
    "# MATH 565 \u2014 SciPy Sampling Demos\n\nThis notebook shows how to generate IID samples from specific distributions and visualize results."
   ]
  },
  {
   "cell_type": "markdown",
   "metadata": {},
   "source": [
    "## 0) `init.py`\nThis cell **writes** an `init.py` into the working directory, mirroring our class setup. If you already have an official `init.py` in your repo, feel free to delete this cell and use that file instead."
   ]
  },
  {
   "cell_type": "code",
   "metadata": {},
   "execution_count": null,
   "outputs": [],
   "source": [
    "\n# %%writefile init.py\nfrom __future__ import annotations\nimport numpy as np\nimport scipy as sp\nfrom scipy import stats, linalg\nimport matplotlib.pyplot as plt\n# Statsmodels (for empirical CDF)\nimport statsmodels.api as sm\nfrom statsmodels.distributions.empirical_distribution import ECDF\n\n# Reproducibility helper\ndef seed_all(seed: int = 12345):\n    np.random.seed(seed)\n\n# Plot defaults\nplt.rcParams.update({\n    \"figure.figsize\": (6, 4),\n    \"axes.grid\": True,\n    \"grid.alpha\": 0.25,\n})\n\n# Simple shared color dictionary\ncolors = {\n    \"blue\": \"#1f77b4\",\n    \"lightblue\": \"#9ecae1\",\n    \"orange\": \"#ff7f0e\",\n    \"green\": \"#2ca02c\",\n    \"red\": \"#d62728\",\n    \"purple\": \"#9467bd\",\n    \"brown\": \"#8c564b\",\n    \"pink\": \"#e377c2\",\n    \"gray\": \"#7f7f7f\",\n}\n\n# Helper: step-plot ECDF\ndef plot_ecdf(data, ax=None, label=None):\n    ecdf = ECDF(data)\n    if ax is None:\n        import matplotlib.pyplot as plt\n        ax = plt.gca()\n    ax.step(ecdf.x, ecdf.y, where=\"post\", label=label)\n    ax.set_xlabel(\"x\")\n    ax.set_ylabel(\"F_n(x)\")\n    return ax\n"
   ]
  },
  {
   "cell_type": "markdown",
   "metadata": {},
   "source": [
    "### Import the packages we used before (and our `init.py`)"
   ]
  },
  {
   "cell_type": "code",
   "metadata": {},
   "execution_count": null,
   "outputs": [],
   "source": [
    "\nimport sys, platform\nfrom init import *  # imports numpy as np, scipy as sp, stats, plt, sm, ECDF, helpers\n\nprint(f\"Python: {sys.version.split()[0]}\")\nprint(f\"Platform: {platform.platform()}\")\nprint(f\"NumPy: {np.__version__}\")\nprint(f\"SciPy: {sp.__version__}\")\nimport matplotlib\nprint(f\"Matplotlib: {matplotlib.__version__}\")\ntry:\n    import qmcpy as qp\n    print(f\"qmcpy: {qp.__version__}\")\nexcept Exception:\n    print(\"qmcpy not found (that's OK here).\")\n\nseed_all(12345)\n"
   ]
  },
  {
   "cell_type": "markdown",
   "metadata": {},
   "source": [
    "## 1) SciPy: IID Binomial samples (n = 3, p = 0.6)\n- Generate samples with `scipy.stats.binom.rvs`\n- Show **side-by-side** histograms for N = 10 and N = 1000\n- Overlay the true PMF for comparison"
   ]
  },
  {
   "cell_type": "code",
   "metadata": {},
   "execution_count": null,
   "outputs": [],
   "source": [
    "\nn, p = 3, 0.6\nrv = stats.binom(n=n, p=p)\nk = np.arange(n+1)\npmf = rv.pmf(k)\n\n# Two sample sizes\nN_small, N_large = 10, 1000\nx_small = rv.rvs(size=N_small, random_state=np.random.default_rng(123))\nx_large = rv.rvs(size=N_large, random_state=np.random.default_rng(456))\n\nimport matplotlib.pyplot as plt\n\nfig, axes = plt.subplots(1, 2, figsize=(10, 4), sharey=True)\n# Left: N=10\naxes[0].hist(x_small, bins=np.arange(-0.5, n+1.5, 1), density=True, edgecolor=\"k\", alpha=0.6)\naxes[0].vlines(k, 0, pmf, colors=\"C1\", lw=3, label=\"True PMF\")\naxes[0].set_title(\"Histogram (N = 10)\")\naxes[0].set_xlabel(\"k\")\naxes[0].set_ylabel(\"Density\")\naxes[0].legend()\n\n# Right: N=1000\naxes[1].hist(x_large, bins=np.arange(-0.5, n+1.5, 1), density=True, edgecolor=\"k\", alpha=0.6)\naxes[1].vlines(k, 0, pmf, colors=\"C1\", lw=3, label=\"True PMF\")\naxes[1].set_title(\"Histogram (N = 1000)\")\naxes[1].set_xlabel(\"k\")\naxes[1].legend()\n\nfig.suptitle(f\"Binomial(n={n}, p={p}) \u2014 Histograms vs True PMF\", y=1.02)\nplt.tight_layout()\nplt.show()\n"
   ]
  },
  {
   "cell_type": "markdown",
   "metadata": {},
   "source": [
    "## 2) Zero-Inflated Exponential (ZIE)\n- Probability of zero wait: $p_0 = 0.2$\n- Positive waits are Exponential with **mean** 10 minutes (scale = 10)\n- Generate IID samples; show **empirical CDF** using `statsmodels` for N = 10 and N = 1000"
   ]
  },
  {
   "cell_type": "code",
   "metadata": {},
   "execution_count": null,
   "outputs": [],
   "source": [
    "\np0 = 0.2                 # P(X = 0)\nmean_pos = 10.0          # minutes\nscale = mean_pos         # Exponential scale parameter\nrng = np.random.default_rng(789)\n\ndef rvs_zero_inflated_expon(size, p_zero=0.2, scale=10.0, rng=None):\n    if rng is None:\n        rng = np.random.default_rng()\n    zeros = rng.random(size) < p_zero\n    # Exponential samples for the positive part\n    pos = rng.exponential(scale=scale, size=size)\n    x = np.where(zeros, 0.0, pos)\n    return x\n\nN_small, N_large = 10, 1000\nx_small = rvs_zero_inflated_expon(N_small, p_zero=p0, scale=scale, rng=rng)\nx_large = rvs_zero_inflated_expon(N_large, p_zero=p0, scale=scale, rng=rng)\n\n# Plot ECDFs side-by-side\nfig, axes = plt.subplots(1, 2, figsize=(12, 4), sharey=True)\n\nplot_ecdf(x_small, ax=axes[0], label=f\"N={N_small}\")\naxes[0].set_title(\"Zero-Inflated Exponential \u2014 ECDF (N=10)\")\naxes[0].legend()\n\nplot_ecdf(x_large, ax=axes[1], label=f\"N={N_large}\")\naxes[1].set_title(\"Zero-Inflated Exponential \u2014 ECDF (N=1000)\")\naxes[1].legend()\n\nplt.tight_layout()\nplt.show()\n"
   ]
  },
  {
   "cell_type": "markdown",
   "metadata": {},
   "source": [
    "---\n**Notes**\n- Binomial samples used `scipy.stats.binom.rvs`.\n- ZIE sampling generated zeros via a Bernoulli draw and positive times via `np.random.exponential(scale=10)`.\n- ECDFs used `statsmodels.distributions.empirical_distribution.ECDF`.\n\n_Last updated:_ 2025-08-24 21:34:57"
   ]
  }
 ],
 "metadata": {
  "kernelspec": {
   "display_name": "Python 3",
   "language": "python",
   "name": "python3"
  },
  "language_info": {
   "name": "python",
   "version": "3.11.8",
   "mimetype": "text/x-python",
   "codemirror_mode": {
    "name": "ipython",
    "version": 3
   },
   "pygments_lexer": "ipython3",
   "nbconvert_exporter": "python",
   "file_extension": ".py"
  }
 },
 "nbformat": 4,
 "nbformat_minor": 5
}