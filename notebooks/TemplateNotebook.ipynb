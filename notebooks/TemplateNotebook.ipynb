{
 "cells": [
  {
   "cell_type": "markdown",
   "id": "9090a212",
   "metadata": {},
   "source": [
    "# Title Here\n",
    "\n",
    "Author: Fred J. Hickernell\n",
    "\n",
    "Description\n",
    "\n",
    "#### Some LaTeX macros (hidden in math mode, will not render correctly in VS Code)\n",
    "$\n",
    "\\newcommand{\\vh}{\\boldsymbol{h}}\n",
    "\\newcommand{\\vt}{\\boldsymbol{t}}\n",
    "\\newcommand{\\vx}{\\boldsymbol{x}}\n",
    "\\newcommand{\\vX}{\\boldsymbol{X}}\n",
    "\\newcommand{\\cf}{\\mathcal{F}}\n",
    "\\newcommand{\\cu}{\\mathcal{U}}\n",
    "\\newcommand{\\dif}{\\mathrm{d}}\n",
    "\\newcommand{\\Ex}{\\mathbb{E}}\n",
    "\\newcommand{\\Prob}{\\mathbb{P}}\n",
    "\\newcommand{\\bbone}{\\mathbb{1}}\n",
    "\\newcommand{\\disc}{\\operatorname{disc}}\n",
    "\\newcommand{\\norm}[2]{{\\left \\lVert #1 \\right \\rVert}_{#2}}\n",
    "$"
   ]
  },
  {
   "cell_type": "markdown",
   "id": "9e0c0ffc-d594-4562-adf7-b55e13f6bc5b",
   "metadata": {},
   "source": [
    "#### Run this notebook in Juypter with the `conda qmcpy` environment or [![Open In Colab](https://colab.research.google.com/assets/colab-badge.svg)](https://colab.research.google.com/github/QMCSoftware/MATH565Fall2025/blob/main/notebooks/TemplateNotebook.ipynb?flush_cache=true)"
   ]
  },
  {
   "cell_type": "code",
   "execution_count": 1,
   "id": "92ff449d-96e0-4ccb-be7b-c7103ecc3a7e",
   "metadata": {
    "execution": {
     "iopub.execute_input": "2025-08-24T22:49:05.318448Z",
     "iopub.status.busy": "2025-08-24T22:49:05.318144Z",
     "iopub.status.idle": "2025-08-24T22:49:05.325144Z",
     "shell.execute_reply": "2025-08-24T22:49:05.324517Z",
     "shell.execute_reply.started": "2025-08-24T22:49:05.318427Z"
    },
    "jupyter": {
     "source_hidden": true
    }
   },
   "outputs": [],
   "source": [
    "if \"google.colab\" in str(get_ipython()):\n",
    "    print(\"⚡Note: Setup here can take a few minutes.\")\n",
    "    !apt-get -y install cm-super dvipng texlive-latex-extra texlive-latex-recommended\n",
    "    !pip install git+https://github.com/QMCSoftware/QMCSoftware.git@develop\n",
    "    !git clone https://github.com/QMCSoftware/MATH565Fall2025.git\n",
    "    %cd MATH565Fall2025/notebooks\n",
    "    print(\"\\n✅ Colab setup complete.\")\n",
    "    print(\"   For faster performance, please install the qmcpy environment locally.\")"
   ]
  },
  {
   "cell_type": "markdown",
   "id": "387c2c73-fff0-4e83-8105-821de9bd252e",
   "metadata": {},
   "source": [
    "### Import needed packages and initialize some parameters"
   ]
  },
  {
   "cell_type": "code",
   "execution_count": 2,
   "id": "dfed85fd-f2bf-49aa-ab7f-a9792bbca154",
   "metadata": {
    "execution": {
     "iopub.execute_input": "2025-08-24T22:49:05.953453Z",
     "iopub.status.busy": "2025-08-24T22:49:05.953125Z",
     "iopub.status.idle": "2025-08-24T22:49:08.834727Z",
     "shell.execute_reply": "2025-08-24T22:49:08.834482Z",
     "shell.execute_reply.started": "2025-08-24T22:49:05.953429Z"
    },
    "jupyter": {
     "source_hidden": true
    }
   },
   "outputs": [
    {
     "data": {
      "text/html": [
       "\n",
       "    <style>\n",
       "    /* Works for any cell (code or markdown) if the cell has the 'highlight' tag */\n",
       "    .tag_highlight {\n",
       "        background-color: #e6f7ff !important;\n",
       "    }\n",
       "\n",
       "    /* Convenient class for Markdown cells so you don't repeat inline styles */\n",
       "    .highlight-note {\n",
       "        background-color: #e6f7ff !important;\n",
       "        padding: 10px;\n",
       "        border-radius: 6px;\n",
       "    }\n",
       "    </style>\n",
       "    "
      ],
      "text/plain": [
       "<IPython.core.display.HTML object>"
      ]
     },
     "metadata": {},
     "output_type": "display_data"
    }
   ],
   "source": [
    "import matplotlib.pyplot as plt\n",
    "import math, time, timeit, sys\n",
    "import numpy as np\n",
    "import scipy as sp\n",
    "from scipy import stats\n",
    "import qmcpy as qp\n",
    "import sympy as sy\n",
    "from IPython.display import Markdown\n",
    "import mc_class as init\n",
    "init.init()                 # apply rcParams + numpy error policy\n",
    "colors = init.get_py_colors()"
   ]
  },
  {
   "cell_type": "markdown",
   "id": "b945d270",
   "metadata": {},
   "source": [
    "## First Heading\n"
   ]
  },
  {
   "cell_type": "code",
   "execution_count": null,
   "id": "1f25f6c3-1003-42a3-ba8a-c87a3946e998",
   "metadata": {},
   "outputs": [],
   "source": []
  }
 ],
 "metadata": {
  "kernelspec": {
   "display_name": "Python 3 (ipykernel)",
   "language": "python",
   "name": "python3"
  },
  "language_info": {
   "codemirror_mode": {
    "name": "ipython",
    "version": 3
   },
   "file_extension": ".py",
   "mimetype": "text/x-python",
   "name": "python",
   "nbconvert_exporter": "python",
   "pygments_lexer": "ipython3",
   "version": "3.12.11"
  }
 },
 "nbformat": 4,
 "nbformat_minor": 5
}
